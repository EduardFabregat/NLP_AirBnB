{
  "nbformat": 4,
  "nbformat_minor": 0,
  "metadata": {
    "colab": {
      "name": "AirBnB_Tanzania_NER_Collocations.ipynb",
      "provenance": [],
      "collapsed_sections": []
    },
    "kernelspec": {
      "name": "python3",
      "display_name": "Python 3"
    }
  },
  "cells": [
    {
      "cell_type": "code",
      "metadata": {
        "id": "Do851OPVeYor",
        "colab_type": "code",
        "colab": {}
      },
      "source": [
        "import numpy as np\n",
        "import pandas as pd\n",
        "import matplotlib.pyplot as plt\n",
        "import seaborn as sns"
      ],
      "execution_count": null,
      "outputs": []
    },
    {
      "cell_type": "code",
      "metadata": {
        "id": "dOh0d_VOehNs",
        "colab_type": "code",
        "colab": {
          "resources": {
            "http://localhost:8080/nbextensions/google.colab/files.js": {
              "data": "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",
              "ok": true,
              "headers": [
                [
                  "content-type",
                  "application/javascript"
                ]
              ],
              "status": 200,
              "status_text": "OK"
            }
          },
          "base_uri": "https://localhost:8080/",
          "height": 75
        },
        "outputId": "afe2e238-ae03-416a-f2a1-6439a6210c0b"
      },
      "source": [
        "from google.colab import files\n",
        "uploaded = files.upload()"
      ],
      "execution_count": null,
      "outputs": [
        {
          "output_type": "display_data",
          "data": {
            "text/html": [
              "\n",
              "     <input type=\"file\" id=\"files-f4081113-cc1b-49b7-bdb9-9a54d469e9d2\" name=\"files[]\" multiple disabled\n",
              "        style=\"border:none\" />\n",
              "     <output id=\"result-f4081113-cc1b-49b7-bdb9-9a54d469e9d2\">\n",
              "      Upload widget is only available when the cell has been executed in the\n",
              "      current browser session. Please rerun this cell to enable.\n",
              "      </output>\n",
              "      <script src=\"/nbextensions/google.colab/files.js\"></script> "
            ],
            "text/plain": [
              "<IPython.core.display.HTML object>"
            ]
          },
          "metadata": {
            "tags": []
          }
        },
        {
          "output_type": "stream",
          "text": [
            "Saving reviews.csv to reviews.csv\n"
          ],
          "name": "stdout"
        }
      ]
    },
    {
      "cell_type": "code",
      "metadata": {
        "id": "wGTQhP01gFbu",
        "colab_type": "code",
        "colab": {}
      },
      "source": [
        "df = pd.read_csv(\"reviews.csv\")"
      ],
      "execution_count": null,
      "outputs": []
    },
    {
      "cell_type": "code",
      "metadata": {
        "id": "d8ZjjjglgMe_",
        "colab_type": "code",
        "colab": {
          "base_uri": "https://localhost:8080/",
          "height": 206
        },
        "outputId": "2b78ae88-b311-48b3-f1ad-ac69b17ae356"
      },
      "source": [
        "df.head()"
      ],
      "execution_count": null,
      "outputs": [
        {
          "output_type": "execute_result",
          "data": {
            "text/html": [
              "<div>\n",
              "<style scoped>\n",
              "    .dataframe tbody tr th:only-of-type {\n",
              "        vertical-align: middle;\n",
              "    }\n",
              "\n",
              "    .dataframe tbody tr th {\n",
              "        vertical-align: top;\n",
              "    }\n",
              "\n",
              "    .dataframe thead th {\n",
              "        text-align: right;\n",
              "    }\n",
              "</style>\n",
              "<table border=\"1\" class=\"dataframe\">\n",
              "  <thead>\n",
              "    <tr style=\"text-align: right;\">\n",
              "      <th></th>\n",
              "      <th>listing_id</th>\n",
              "      <th>id</th>\n",
              "      <th>date</th>\n",
              "      <th>reviewer_id</th>\n",
              "      <th>reviewer_name</th>\n",
              "      <th>comments</th>\n",
              "    </tr>\n",
              "  </thead>\n",
              "  <tbody>\n",
              "    <tr>\n",
              "      <th>0</th>\n",
              "      <td>35644</td>\n",
              "      <td>3024649</td>\n",
              "      <td>2012-12-04</td>\n",
              "      <td>5394983</td>\n",
              "      <td>Anne</td>\n",
              "      <td>Yvette picked us up from the bus stop on our a...</td>\n",
              "    </tr>\n",
              "    <tr>\n",
              "      <th>1</th>\n",
              "      <td>35644</td>\n",
              "      <td>3040421</td>\n",
              "      <td>2012-12-08</td>\n",
              "      <td>3712269</td>\n",
              "      <td>Catherine</td>\n",
              "      <td>Lovely house with beautiful views, close to th...</td>\n",
              "    </tr>\n",
              "    <tr>\n",
              "      <th>2</th>\n",
              "      <td>35644</td>\n",
              "      <td>3126050</td>\n",
              "      <td>2012-12-20</td>\n",
              "      <td>2908896</td>\n",
              "      <td>Paul</td>\n",
              "      <td>Yvette is a generous host and a georgeous pers...</td>\n",
              "    </tr>\n",
              "    <tr>\n",
              "      <th>3</th>\n",
              "      <td>35644</td>\n",
              "      <td>3142082</td>\n",
              "      <td>2012-12-23</td>\n",
              "      <td>3941752</td>\n",
              "      <td>Carmel</td>\n",
              "      <td>This is our first experience with Air B &amp; B; a...</td>\n",
              "    </tr>\n",
              "    <tr>\n",
              "      <th>4</th>\n",
              "      <td>35644</td>\n",
              "      <td>3194549</td>\n",
              "      <td>2012-12-31</td>\n",
              "      <td>2735578</td>\n",
              "      <td>Katharina</td>\n",
              "      <td>Yvette is a very friendly host and happy to gi...</td>\n",
              "    </tr>\n",
              "  </tbody>\n",
              "</table>\n",
              "</div>"
            ],
            "text/plain": [
              "   listing_id  ...                                           comments\n",
              "0       35644  ...  Yvette picked us up from the bus stop on our a...\n",
              "1       35644  ...  Lovely house with beautiful views, close to th...\n",
              "2       35644  ...  Yvette is a generous host and a georgeous pers...\n",
              "3       35644  ...  This is our first experience with Air B & B; a...\n",
              "4       35644  ...  Yvette is a very friendly host and happy to gi...\n",
              "\n",
              "[5 rows x 6 columns]"
            ]
          },
          "metadata": {
            "tags": []
          },
          "execution_count": 3
        }
      ]
    },
    {
      "cell_type": "code",
      "metadata": {
        "id": "hTXufO1fexU6",
        "colab_type": "code",
        "colab": {}
      },
      "source": [
        "from collections import Counter\n",
        "import re"
      ],
      "execution_count": null,
      "outputs": []
    },
    {
      "cell_type": "code",
      "metadata": {
        "id": "eVxgl9ssfJ7y",
        "colab_type": "code",
        "colab": {}
      },
      "source": [
        "!python -m spacy download en_core_web_lg"
      ],
      "execution_count": null,
      "outputs": []
    },
    {
      "cell_type": "code",
      "metadata": {
        "id": "hJ-wXR-LfHIX",
        "colab_type": "code",
        "colab": {}
      },
      "source": [
        "import spacy\n",
        "import spacy\n",
        "from spacy import displacy\n",
        "nlp = spacy.load('en_core_web_lg')"
      ],
      "execution_count": null,
      "outputs": []
    },
    {
      "cell_type": "code",
      "metadata": {
        "id": "4yG6BE4Phxdx",
        "colab_type": "code",
        "colab": {
          "base_uri": "https://localhost:8080/",
          "height": 146
        },
        "outputId": "a94e9ad7-a03f-48dd-cba9-10e258541c83"
      },
      "source": [
        "df.isna().sum()"
      ],
      "execution_count": null,
      "outputs": [
        {
          "output_type": "execute_result",
          "data": {
            "text/plain": [
              "listing_id         0\n",
              "id                 0\n",
              "date               0\n",
              "reviewer_id        0\n",
              "reviewer_name      0\n",
              "comments         114\n",
              "dtype: int64"
            ]
          },
          "metadata": {
            "tags": []
          },
          "execution_count": 6
        }
      ]
    },
    {
      "cell_type": "code",
      "metadata": {
        "id": "2FSPnHuciOPm",
        "colab_type": "code",
        "colab": {}
      },
      "source": [
        "df = df.dropna()"
      ],
      "execution_count": null,
      "outputs": []
    },
    {
      "cell_type": "code",
      "metadata": {
        "id": "96mtTIfniQLw",
        "colab_type": "code",
        "colab": {
          "base_uri": "https://localhost:8080/",
          "height": 146
        },
        "outputId": "a51623f5-673d-4978-c15c-79a51e44594a"
      },
      "source": [
        "df.isna().sum()"
      ],
      "execution_count": null,
      "outputs": [
        {
          "output_type": "execute_result",
          "data": {
            "text/plain": [
              "listing_id       0\n",
              "id               0\n",
              "date             0\n",
              "reviewer_id      0\n",
              "reviewer_name    0\n",
              "comments         0\n",
              "dtype: int64"
            ]
          },
          "metadata": {
            "tags": []
          },
          "execution_count": 8
        }
      ]
    },
    {
      "cell_type": "code",
      "metadata": {
        "id": "o_TMXo0NiRwh",
        "colab_type": "code",
        "colab": {
          "base_uri": "https://localhost:8080/",
          "height": 274
        },
        "outputId": "057f9f99-3681-458d-d534-eb14d237e53b"
      },
      "source": [
        "df.info"
      ],
      "execution_count": null,
      "outputs": [
        {
          "output_type": "execute_result",
          "data": {
            "text/plain": [
              "<bound method DataFrame.info of         listing_id  ...                                           comments\n",
              "0            35644  ...  Yvette picked us up from the bus stop on our a...\n",
              "1            35644  ...  Lovely house with beautiful views, close to th...\n",
              "2            35644  ...  Yvette is a generous host and a georgeous pers...\n",
              "3            35644  ...  This is our first experience with Air B & B; a...\n",
              "4            35644  ...  Yvette is a very friendly host and happy to gi...\n",
              "...            ...  ...                                                ...\n",
              "313384    42642623  ...  Rays place is in a beautiful & historic area o...\n",
              "313385    42642623  ...  Ray was super helpful and thoughtful. The room...\n",
              "313386    42669236  ...  Great place, location and a good value! \\nKitc...\n",
              "313387    42763471  ...  Fantastic.\\nLocation, right in the heart of de...\n",
              "313388    42795957  ...  Great location really nice place to stay nice ...\n",
              "\n",
              "[313275 rows x 6 columns]>"
            ]
          },
          "metadata": {
            "tags": []
          },
          "execution_count": 9
        }
      ]
    },
    {
      "cell_type": "code",
      "metadata": {
        "id": "7WQhnDswiUwP",
        "colab_type": "code",
        "colab": {}
      },
      "source": [
        "df = df.reset_index()"
      ],
      "execution_count": null,
      "outputs": []
    },
    {
      "cell_type": "code",
      "metadata": {
        "id": "8coTQftZiY5B",
        "colab_type": "code",
        "colab": {}
      },
      "source": [
        "df['index'] = df.index"
      ],
      "execution_count": null,
      "outputs": []
    },
    {
      "cell_type": "code",
      "metadata": {
        "id": "2PwuIPGOidZ_",
        "colab_type": "code",
        "colab": {
          "base_uri": "https://localhost:8080/",
          "height": 206
        },
        "outputId": "93a2e8a6-c428-4a11-e5dd-62fb2db5f0a9"
      },
      "source": [
        "df.head()"
      ],
      "execution_count": null,
      "outputs": [
        {
          "output_type": "execute_result",
          "data": {
            "text/html": [
              "<div>\n",
              "<style scoped>\n",
              "    .dataframe tbody tr th:only-of-type {\n",
              "        vertical-align: middle;\n",
              "    }\n",
              "\n",
              "    .dataframe tbody tr th {\n",
              "        vertical-align: top;\n",
              "    }\n",
              "\n",
              "    .dataframe thead th {\n",
              "        text-align: right;\n",
              "    }\n",
              "</style>\n",
              "<table border=\"1\" class=\"dataframe\">\n",
              "  <thead>\n",
              "    <tr style=\"text-align: right;\">\n",
              "      <th></th>\n",
              "      <th>index</th>\n",
              "      <th>listing_id</th>\n",
              "      <th>id</th>\n",
              "      <th>date</th>\n",
              "      <th>reviewer_id</th>\n",
              "      <th>reviewer_name</th>\n",
              "      <th>comments</th>\n",
              "    </tr>\n",
              "  </thead>\n",
              "  <tbody>\n",
              "    <tr>\n",
              "      <th>0</th>\n",
              "      <td>0</td>\n",
              "      <td>35644</td>\n",
              "      <td>3024649</td>\n",
              "      <td>2012-12-04</td>\n",
              "      <td>5394983</td>\n",
              "      <td>Anne</td>\n",
              "      <td>Yvette picked us up from the bus stop on our a...</td>\n",
              "    </tr>\n",
              "    <tr>\n",
              "      <th>1</th>\n",
              "      <td>1</td>\n",
              "      <td>35644</td>\n",
              "      <td>3040421</td>\n",
              "      <td>2012-12-08</td>\n",
              "      <td>3712269</td>\n",
              "      <td>Catherine</td>\n",
              "      <td>Lovely house with beautiful views, close to th...</td>\n",
              "    </tr>\n",
              "    <tr>\n",
              "      <th>2</th>\n",
              "      <td>2</td>\n",
              "      <td>35644</td>\n",
              "      <td>3126050</td>\n",
              "      <td>2012-12-20</td>\n",
              "      <td>2908896</td>\n",
              "      <td>Paul</td>\n",
              "      <td>Yvette is a generous host and a georgeous pers...</td>\n",
              "    </tr>\n",
              "    <tr>\n",
              "      <th>3</th>\n",
              "      <td>3</td>\n",
              "      <td>35644</td>\n",
              "      <td>3142082</td>\n",
              "      <td>2012-12-23</td>\n",
              "      <td>3941752</td>\n",
              "      <td>Carmel</td>\n",
              "      <td>This is our first experience with Air B &amp; B; a...</td>\n",
              "    </tr>\n",
              "    <tr>\n",
              "      <th>4</th>\n",
              "      <td>4</td>\n",
              "      <td>35644</td>\n",
              "      <td>3194549</td>\n",
              "      <td>2012-12-31</td>\n",
              "      <td>2735578</td>\n",
              "      <td>Katharina</td>\n",
              "      <td>Yvette is a very friendly host and happy to gi...</td>\n",
              "    </tr>\n",
              "  </tbody>\n",
              "</table>\n",
              "</div>"
            ],
            "text/plain": [
              "   index  ...                                           comments\n",
              "0      0  ...  Yvette picked us up from the bus stop on our a...\n",
              "1      1  ...  Lovely house with beautiful views, close to th...\n",
              "2      2  ...  Yvette is a generous host and a georgeous pers...\n",
              "3      3  ...  This is our first experience with Air B & B; a...\n",
              "4      4  ...  Yvette is a very friendly host and happy to gi...\n",
              "\n",
              "[5 rows x 7 columns]"
            ]
          },
          "metadata": {
            "tags": []
          },
          "execution_count": 12
        }
      ]
    },
    {
      "cell_type": "code",
      "metadata": {
        "id": "sFZxN-pSigS-",
        "colab_type": "code",
        "colab": {}
      },
      "source": [
        "brief_cleaning = (re.sub(\"[^A-Za-z']+\", ' ', str(row)).lower() for row in df['comments'])"
      ],
      "execution_count": null,
      "outputs": []
    },
    {
      "cell_type": "code",
      "metadata": {
        "id": "q93LOJhLiqtw",
        "colab_type": "code",
        "colab": {}
      },
      "source": [
        "#nlp = spacy.load('en', disable=['ner', 'parser'])\n",
        "def cleaning(doc):\n",
        "    txt = [token.text for token in doc if not token.is_stop]\n",
        "    # Word2Vec uses context words to learn the vector representation of a target word,\n",
        "    # if a sentence is only one or two words long,\n",
        "    # the benefit for the training is very small\n",
        "    if len(txt) > 2:\n",
        "        return ' '.join(txt)"
      ],
      "execution_count": null,
      "outputs": []
    },
    {
      "cell_type": "code",
      "metadata": {
        "id": "hd9lTHBXjTsR",
        "colab_type": "code",
        "colab": {}
      },
      "source": [
        "from time import time  # To time our operations\n",
        "import logging  # Setting up the loggings to monitor gensim\n",
        "logging.basicConfig(format=\"%(levelname)s - %(asctime)s: %(message)s\", datefmt= '%H:%M:%S', level=logging.INFO)"
      ],
      "execution_count": null,
      "outputs": []
    },
    {
      "cell_type": "code",
      "metadata": {
        "id": "iBq16IAgjOxI",
        "colab_type": "code",
        "colab": {
          "base_uri": "https://localhost:8080/",
          "height": 35
        },
        "outputId": "76a45158-6f02-44cc-f6e7-831ab840f3df"
      },
      "source": [
        "t = time()\n",
        "\n",
        "txt = [cleaning(doc) for doc in nlp.pipe(brief_cleaning, batch_size=5000, n_threads=-1)]\n",
        "\n",
        "print('Time to clean up everything: {} mins'.format(round((time() - t) / 60, 2)))"
      ],
      "execution_count": null,
      "outputs": [
        {
          "output_type": "stream",
          "text": [
            "Time to clean up everything: 20.67 mins\n"
          ],
          "name": "stdout"
        }
      ]
    },
    {
      "cell_type": "code",
      "metadata": {
        "id": "ck_KhI9bjkdw",
        "colab_type": "code",
        "colab": {
          "base_uri": "https://localhost:8080/",
          "height": 182
        },
        "outputId": "a922e648-eb93-470f-cc81-62d32f61b2bb"
      },
      "source": [
        "df_clean = pd.DataFrame({'clean': txt})\n",
        "df_clean = df_clean.dropna().drop_duplicates()\n",
        "print(df_clean.shape)\n",
        "print('\\n')\n",
        "print(df_clean.head())"
      ],
      "execution_count": null,
      "outputs": [
        {
          "output_type": "stream",
          "text": [
            "(294533, 1)\n",
            "\n",
            "\n",
            "                                               clean\n",
            "0  yvette picked bus stop arrival hobart immediat...\n",
            "1  lovely house beautiful views close city centre...\n",
            "2  yvette generous host georgeous person feel wel...\n",
            "3  experience air b b excellent experience yvette...\n",
            "4  yvette friendly host happy lots advice enjoyed...\n"
          ],
          "name": "stdout"
        }
      ]
    },
    {
      "cell_type": "code",
      "metadata": {
        "id": "tK17XqQlywMP",
        "colab_type": "code",
        "colab": {}
      },
      "source": [
        "text = []\n",
        "label = []\n",
        "explain = []"
      ],
      "execution_count": null,
      "outputs": []
    },
    {
      "cell_type": "code",
      "metadata": {
        "id": "qnBJx3WJywi0",
        "colab_type": "code",
        "colab": {}
      },
      "source": [
        "t = time()\n",
        "for doc in nlp.pipe(df['comments'], disable=[\"tagger\", \"parser\"], batch_size=5000, n_threads=-1):\n",
        "    # Do something with the doc here\n",
        "    tt = [x.text for x in doc.ents]\n",
        "    text.extend(tt)\n",
        "    l = [x.label_ for x in doc.ents]\n",
        "    label.extend(l)\n",
        "    e = [str(spacy.explain(x.label_)) for x in doc.ents]\n",
        "    explain.extend(e)\n",
        "\n",
        "print('Time to process everything: {} mins'.format(round((time() - t) / 60, 2)))"
      ],
      "execution_count": null,
      "outputs": []
    },
    {
      "cell_type": "code",
      "metadata": {
        "id": "5PgRtcs0zX_b",
        "colab_type": "code",
        "colab": {}
      },
      "source": [
        "ner_df = pd.DataFrame(\n",
        "    {'Word': text,\n",
        "     'Label': label,\n",
        "     'Description': explain\n",
        "    })"
      ],
      "execution_count": null,
      "outputs": []
    },
    {
      "cell_type": "code",
      "metadata": {
        "id": "NNm20ZCx1cs1",
        "colab_type": "code",
        "colab": {
          "base_uri": "https://localhost:8080/",
          "height": 206
        },
        "outputId": "455e3d0f-f6e2-4f3a-fec0-fa70454a0e21"
      },
      "source": [
        "ner_df.head()"
      ],
      "execution_count": null,
      "outputs": [
        {
          "output_type": "execute_result",
          "data": {
            "text/html": [
              "<div>\n",
              "<style scoped>\n",
              "    .dataframe tbody tr th:only-of-type {\n",
              "        vertical-align: middle;\n",
              "    }\n",
              "\n",
              "    .dataframe tbody tr th {\n",
              "        vertical-align: top;\n",
              "    }\n",
              "\n",
              "    .dataframe thead th {\n",
              "        text-align: right;\n",
              "    }\n",
              "</style>\n",
              "<table border=\"1\" class=\"dataframe\">\n",
              "  <thead>\n",
              "    <tr style=\"text-align: right;\">\n",
              "      <th></th>\n",
              "      <th>Word</th>\n",
              "      <th>Label</th>\n",
              "      <th>Description</th>\n",
              "    </tr>\n",
              "  </thead>\n",
              "  <tbody>\n",
              "    <tr>\n",
              "      <th>0</th>\n",
              "      <td>Yvette</td>\n",
              "      <td>PERSON</td>\n",
              "      <td>People, including fictional</td>\n",
              "    </tr>\n",
              "    <tr>\n",
              "      <th>1</th>\n",
              "      <td>Hobart</td>\n",
              "      <td>LOC</td>\n",
              "      <td>Non-GPE locations, mountain ranges, bodies of ...</td>\n",
              "    </tr>\n",
              "    <tr>\n",
              "      <th>2</th>\n",
              "      <td>Mr Blue</td>\n",
              "      <td>PERSON</td>\n",
              "      <td>People, including fictional</td>\n",
              "    </tr>\n",
              "    <tr>\n",
              "      <th>3</th>\n",
              "      <td>Yvette</td>\n",
              "      <td>PERSON</td>\n",
              "      <td>People, including fictional</td>\n",
              "    </tr>\n",
              "    <tr>\n",
              "      <th>4</th>\n",
              "      <td>Yvette</td>\n",
              "      <td>PERSON</td>\n",
              "      <td>People, including fictional</td>\n",
              "    </tr>\n",
              "  </tbody>\n",
              "</table>\n",
              "</div>"
            ],
            "text/plain": [
              "      Word   Label                                        Description\n",
              "0   Yvette  PERSON                        People, including fictional\n",
              "1   Hobart     LOC  Non-GPE locations, mountain ranges, bodies of ...\n",
              "2  Mr Blue  PERSON                        People, including fictional\n",
              "3   Yvette  PERSON                        People, including fictional\n",
              "4   Yvette  PERSON                        People, including fictional"
            ]
          },
          "metadata": {
            "tags": []
          },
          "execution_count": 96
        }
      ]
    },
    {
      "cell_type": "code",
      "metadata": {
        "id": "Z0DBI5Ef1hkq",
        "colab_type": "code",
        "colab": {
          "base_uri": "https://localhost:8080/",
          "height": 35
        },
        "outputId": "d45897ed-83c9-416b-cbc4-4f3e0fef3be9"
      },
      "source": [
        "len(ner_df[(ner_df['Word'] == 'Hobart') & (ner_df['Label'] == 'GPE')])"
      ],
      "execution_count": null,
      "outputs": [
        {
          "output_type": "execute_result",
          "data": {
            "text/plain": [
              "15083"
            ]
          },
          "metadata": {
            "tags": []
          },
          "execution_count": 120
        }
      ]
    },
    {
      "cell_type": "code",
      "metadata": {
        "id": "sljH-PokuewY",
        "colab_type": "code",
        "colab": {
          "base_uri": "https://localhost:8080/",
          "height": 384
        },
        "outputId": "24791e8d-5e92-4436-9aec-5311e8426126"
      },
      "source": [
        "Counter(list_items).most_common(20)"
      ],
      "execution_count": null,
      "outputs": [
        {
          "output_type": "execute_result",
          "data": {
            "text/plain": [
              "[('Hobart - LOC - Non-GPE locations, mountain ranges, bodies of water', 15083),\n",
              " ('Hobart - GPE - Countries, cities, states', 12913),\n",
              " ('Launceston - GPE - Countries, cities, states', 10469),\n",
              " ('Tasmania - GPE - Countries, cities, states', 8480),\n",
              " ('two - CARDINAL - Numerals that do not fall under another type', 6386),\n",
              " ('Salamanca - GPE - Countries, cities, states', 5005),\n",
              " ('Hobart - PERSON - People, including fictional', 4968),\n",
              " ('one - CARDINAL - Numerals that do not fall under another type', 4427),\n",
              " ('2 - CARDINAL - Numerals that do not fall under another type', 4228),\n",
              " ('first - ORDINAL - \"first\", \"second\", etc.', 4161),\n",
              " ('Hobart - ORG - Companies, agencies, institutions, etc.', 4020),\n",
              " ('Tassie - GPE - Countries, cities, states', 3948),\n",
              " ('CBD - GPE - Countries, cities, states', 3940),\n",
              " ('night - TIME - Times smaller than a day', 3236),\n",
              " ('5 - CARDINAL - Numerals that do not fall under another type', 2786),\n",
              " ('one night - TIME - Times smaller than a day', 2589),\n",
              " ('John - PERSON - People, including fictional', 2571),\n",
              " ('Peter - PERSON - People, including fictional', 2531),\n",
              " ('Anne - PERSON - People, including fictional', 2383),\n",
              " ('second - ORDINAL - \"first\", \"second\", etc.', 2334)]"
            ]
          },
          "metadata": {
            "tags": []
          },
          "execution_count": 77
        }
      ]
    },
    {
      "cell_type": "markdown",
      "metadata": {
        "id": "rTc2lEyN0TTr",
        "colab_type": "text"
      },
      "source": [
        "Collocations with NLTK"
      ]
    },
    {
      "cell_type": "code",
      "metadata": {
        "id": "8yRi6p975y2r",
        "colab_type": "code",
        "colab": {}
      },
      "source": [
        "import nltk.collocations\n",
        "import nltk.corpus\n",
        "import collections\n",
        "import spacy\n",
        "from collections import Counter\n",
        "nlp = spacy.load('en_core_web_lg')"
      ],
      "execution_count": null,
      "outputs": []
    },
    {
      "cell_type": "code",
      "metadata": {
        "id": "xqmkNkGF9t8r",
        "colab_type": "code",
        "colab": {}
      },
      "source": [
        "#No l'he utilitzat\n",
        "\n",
        "t = time()\n",
        "tok_words = []\n",
        "df_len = len(df)\n",
        "for i in range(df_len):\n",
        "  doc = df['comments'][i].lower()\n",
        "  doc = nlp(doc)\n",
        "  words = [token.lema for token in doc if token.is_stop != True and token.is_punct != True and token.is_digit != True]\n",
        "  tok_words = tok_words + words\n",
        "\n",
        "print('Time to process everything: {} mins'.format(round((time() - t) / 60, 2)))"
      ],
      "execution_count": null,
      "outputs": []
    },
    {
      "cell_type": "code",
      "metadata": {
        "id": "XFALdvsUILxl",
        "colab_type": "code",
        "colab": {}
      },
      "source": [
        "def clean_comments(text):\n",
        "    tok_words = []\n",
        "    #remove punctuations\n",
        "    doc = df['comments'][i].lower()\n",
        "    doc = nlp(doc)\n",
        "    words = [token.lemma_ for token in doc if token.is_stop != True and token.is_punct != True and token.is_digit != True]\n",
        "    tok_words = tok_words + words\n",
        "    return tok_words"
      ],
      "execution_count": null,
      "outputs": []
    },
    {
      "cell_type": "code",
      "metadata": {
        "id": "8DucvbK5-nbZ",
        "colab_type": "code",
        "colab": {
          "base_uri": "https://localhost:8080/",
          "height": 35
        },
        "outputId": "ea7a3237-ef92-4fd1-8071-1694da6dc2d3"
      },
      "source": [
        "t = time()\n",
        "\n",
        "#apply function to clean and lemmatize comments\n",
        "lemmatized = df['comments'].map(clean_comments)\n",
        "\n",
        "#make sure to lowercase everything\n",
        "lemmatized = lemmatized.map(lambda x: [word.lower() for word in x])\n",
        "\n",
        "#turn all comments' tokens into one single list\n",
        "unlist_comments = [item for items in lemmatized for item in items]\n",
        "\n",
        "print('Time to process everything: {} mins'.format(round((time() - t) / 60, 2)))"
      ],
      "execution_count": null,
      "outputs": [
        {
          "output_type": "stream",
          "text": [
            "Time to process everything: 108.33 mins\n"
          ],
          "name": "stdout"
        }
      ]
    },
    {
      "cell_type": "code",
      "metadata": {
        "id": "fw3CuDrm9gdT",
        "colab_type": "code",
        "colab": {}
      },
      "source": [
        "bigrams = nltk.collocations.BigramAssocMeasures()\n",
        "trigrams = nltk.collocations.TrigramAssocMeasures()"
      ],
      "execution_count": null,
      "outputs": []
    },
    {
      "cell_type": "code",
      "metadata": {
        "id": "fv7YSLsb_dSz",
        "colab_type": "code",
        "colab": {}
      },
      "source": [
        "bigramFinder = nltk.collocations.BigramCollocationFinder.from_words(unlist_comments)\n",
        "trigramFinder = nltk.collocations.TrigramCollocationFinder.from_words(unlist_comments)"
      ],
      "execution_count": null,
      "outputs": []
    },
    {
      "cell_type": "code",
      "metadata": {
        "id": "LY6n_I9qmOYb",
        "colab_type": "code",
        "colab": {}
      },
      "source": [
        "bigram_freq = bigramFinder.ngram_fd.items()"
      ],
      "execution_count": null,
      "outputs": []
    },
    {
      "cell_type": "code",
      "metadata": {
        "id": "PMoeECTamPU8",
        "colab_type": "code",
        "colab": {}
      },
      "source": [
        "bigramFreqTable = pd.DataFrame(list(bigram_freq), columns=['bigram','freq']).sort_values(by='freq', ascending=False)"
      ],
      "execution_count": null,
      "outputs": []
    },
    {
      "cell_type": "code",
      "metadata": {
        "id": "fE5CK61nmRL7",
        "colab_type": "code",
        "colab": {
          "base_uri": "https://localhost:8080/",
          "height": 206
        },
        "outputId": "c6401d4e-1b97-49e1-b51d-2718fd2a9eac"
      },
      "source": [
        "bigramFreqTable.head().reset_index(drop=True)"
      ],
      "execution_count": null,
      "outputs": [
        {
          "output_type": "execute_result",
          "data": {
            "text/html": [
              "<div>\n",
              "<style scoped>\n",
              "    .dataframe tbody tr th:only-of-type {\n",
              "        vertical-align: middle;\n",
              "    }\n",
              "\n",
              "    .dataframe tbody tr th {\n",
              "        vertical-align: top;\n",
              "    }\n",
              "\n",
              "    .dataframe thead th {\n",
              "        text-align: right;\n",
              "    }\n",
              "</style>\n",
              "<table border=\"1\" class=\"dataframe\">\n",
              "  <thead>\n",
              "    <tr style=\"text-align: right;\">\n",
              "      <th></th>\n",
              "      <th>bigram</th>\n",
              "      <th>freq</th>\n",
              "    </tr>\n",
              "  </thead>\n",
              "  <tbody>\n",
              "    <tr>\n",
              "      <th>0</th>\n",
              "      <td>(place, gorgeous)</td>\n",
              "      <td>313275</td>\n",
              "    </tr>\n",
              "    <tr>\n",
              "      <th>1</th>\n",
              "      <td>(gorgeous, view)</td>\n",
              "      <td>313275</td>\n",
              "    </tr>\n",
              "    <tr>\n",
              "      <th>2</th>\n",
              "      <td>(amazing, rock)</td>\n",
              "      <td>313275</td>\n",
              "    </tr>\n",
              "    <tr>\n",
              "      <th>3</th>\n",
              "      <td>(rock, pool)</td>\n",
              "      <td>313275</td>\n",
              "    </tr>\n",
              "    <tr>\n",
              "      <th>4</th>\n",
              "      <td>(pool, beach)</td>\n",
              "      <td>313275</td>\n",
              "    </tr>\n",
              "  </tbody>\n",
              "</table>\n",
              "</div>"
            ],
            "text/plain": [
              "              bigram    freq\n",
              "0  (place, gorgeous)  313275\n",
              "1   (gorgeous, view)  313275\n",
              "2    (amazing, rock)  313275\n",
              "3       (rock, pool)  313275\n",
              "4      (pool, beach)  313275"
            ]
          },
          "metadata": {
            "tags": []
          },
          "execution_count": 225
        }
      ]
    },
    {
      "cell_type": "code",
      "metadata": {
        "id": "-aTjBUwqmTCO",
        "colab_type": "code",
        "colab": {
          "base_uri": "https://localhost:8080/",
          "height": 363
        },
        "outputId": "759b2593-0d0f-462d-b246-8645a1346d63"
      },
      "source": [
        "bigramFreqTable[:10]"
      ],
      "execution_count": null,
      "outputs": [
        {
          "output_type": "execute_result",
          "data": {
            "text/html": [
              "<div>\n",
              "<style scoped>\n",
              "    .dataframe tbody tr th:only-of-type {\n",
              "        vertical-align: middle;\n",
              "    }\n",
              "\n",
              "    .dataframe tbody tr th {\n",
              "        vertical-align: top;\n",
              "    }\n",
              "\n",
              "    .dataframe thead th {\n",
              "        text-align: right;\n",
              "    }\n",
              "</style>\n",
              "<table border=\"1\" class=\"dataframe\">\n",
              "  <thead>\n",
              "    <tr style=\"text-align: right;\">\n",
              "      <th></th>\n",
              "      <th>bigram</th>\n",
              "      <th>freq</th>\n",
              "    </tr>\n",
              "  </thead>\n",
              "  <tbody>\n",
              "    <tr>\n",
              "      <th>0</th>\n",
              "      <td>(place, gorgeous)</td>\n",
              "      <td>313275</td>\n",
              "    </tr>\n",
              "    <tr>\n",
              "      <th>1</th>\n",
              "      <td>(gorgeous, view)</td>\n",
              "      <td>313275</td>\n",
              "    </tr>\n",
              "    <tr>\n",
              "      <th>22</th>\n",
              "      <td>(amazing, rock)</td>\n",
              "      <td>313275</td>\n",
              "    </tr>\n",
              "    <tr>\n",
              "      <th>23</th>\n",
              "      <td>(rock, pool)</td>\n",
              "      <td>313275</td>\n",
              "    </tr>\n",
              "    <tr>\n",
              "      <th>24</th>\n",
              "      <td>(pool, beach)</td>\n",
              "      <td>313275</td>\n",
              "    </tr>\n",
              "    <tr>\n",
              "      <th>25</th>\n",
              "      <td>(beach, hill)</td>\n",
              "      <td>313275</td>\n",
              "    </tr>\n",
              "    <tr>\n",
              "      <th>26</th>\n",
              "      <td>(hill, want)</td>\n",
              "      <td>313275</td>\n",
              "    </tr>\n",
              "    <tr>\n",
              "      <th>27</th>\n",
              "      <td>(want, experience)</td>\n",
              "      <td>313275</td>\n",
              "    </tr>\n",
              "    <tr>\n",
              "      <th>28</th>\n",
              "      <td>(experience, bay)</td>\n",
              "      <td>313275</td>\n",
              "    </tr>\n",
              "    <tr>\n",
              "      <th>29</th>\n",
              "      <td>(bay, fire)</td>\n",
              "      <td>313275</td>\n",
              "    </tr>\n",
              "  </tbody>\n",
              "</table>\n",
              "</div>"
            ],
            "text/plain": [
              "                bigram    freq\n",
              "0    (place, gorgeous)  313275\n",
              "1     (gorgeous, view)  313275\n",
              "22     (amazing, rock)  313275\n",
              "23        (rock, pool)  313275\n",
              "24       (pool, beach)  313275\n",
              "25       (beach, hill)  313275\n",
              "26        (hill, want)  313275\n",
              "27  (want, experience)  313275\n",
              "28   (experience, bay)  313275\n",
              "29         (bay, fire)  313275"
            ]
          },
          "metadata": {
            "tags": []
          },
          "execution_count": 226
        }
      ]
    },
    {
      "cell_type": "code",
      "metadata": {
        "id": "NYqGekhq_q-x",
        "colab_type": "code",
        "colab": {}
      },
      "source": [
        "#Ja he tret les stop words a la funcio clean_comments\n",
        "#get english stopwords\n",
        "en_stopwords = ['\\n\\n']#set(stopwords.words('english'))"
      ],
      "execution_count": null,
      "outputs": []
    },
    {
      "cell_type": "code",
      "metadata": {
        "id": "o8EtIK-A_rnF",
        "colab_type": "code",
        "colab": {}
      },
      "source": [
        "#function to filter for ADJ/NN bigrams\n",
        "def rightTypes(ngram):\n",
        "    if '-pron-' in ngram or '' in ngram or ' 'in ngram or 't' in ngram:\n",
        "        return False\n",
        "    for word in ngram:\n",
        "        if word in en_stopwords:\n",
        "            return False\n",
        "    acceptable_types = ('JJ', 'JJR', 'JJS', 'NN', 'NNS', 'NNP', 'NNPS')\n",
        "    second_type = ('NN', 'NNS', 'NNP', 'NNPS')\n",
        "    tags = nltk.pos_tag(ngram)\n",
        "    if tags[0][1] in acceptable_types and tags[1][1] in second_type:\n",
        "        return True\n",
        "    else:\n",
        "        return False"
      ],
      "execution_count": null,
      "outputs": []
    },
    {
      "cell_type": "code",
      "metadata": {
        "id": "vbNgSIRkkF0h",
        "colab_type": "code",
        "colab": {}
      },
      "source": [
        "import nltk\n",
        "nltk.download('averaged_perceptron_tagger')"
      ],
      "execution_count": null,
      "outputs": []
    },
    {
      "cell_type": "code",
      "metadata": {
        "id": "1eqi_Bm5_tvk",
        "colab_type": "code",
        "colab": {}
      },
      "source": [
        "#filter bigrams\n",
        "filtered_bi = bigramFreqTable[bigramFreqTable.bigram.map(lambda x: rightTypes(x))]"
      ],
      "execution_count": null,
      "outputs": []
    },
    {
      "cell_type": "code",
      "metadata": {
        "id": "aSAWXOLY_wA3",
        "colab_type": "code",
        "colab": {
          "base_uri": "https://localhost:8080/",
          "height": 363
        },
        "outputId": "b8e6b6af-e8c6-4086-e9e3-8ad89f5e2bfc"
      },
      "source": [
        "filtered_bi[:10]"
      ],
      "execution_count": null,
      "outputs": [
        {
          "output_type": "execute_result",
          "data": {
            "text/html": [
              "<div>\n",
              "<style scoped>\n",
              "    .dataframe tbody tr th:only-of-type {\n",
              "        vertical-align: middle;\n",
              "    }\n",
              "\n",
              "    .dataframe tbody tr th {\n",
              "        vertical-align: top;\n",
              "    }\n",
              "\n",
              "    .dataframe thead th {\n",
              "        text-align: right;\n",
              "    }\n",
              "</style>\n",
              "<table border=\"1\" class=\"dataframe\">\n",
              "  <thead>\n",
              "    <tr style=\"text-align: right;\">\n",
              "      <th></th>\n",
              "      <th>bigram</th>\n",
              "      <th>freq</th>\n",
              "    </tr>\n",
              "  </thead>\n",
              "  <tbody>\n",
              "    <tr>\n",
              "      <th>1</th>\n",
              "      <td>(gorgeous, view)</td>\n",
              "      <td>313275</td>\n",
              "    </tr>\n",
              "    <tr>\n",
              "      <th>23</th>\n",
              "      <td>(rock, pool)</td>\n",
              "      <td>313275</td>\n",
              "    </tr>\n",
              "    <tr>\n",
              "      <th>24</th>\n",
              "      <td>(pool, beach)</td>\n",
              "      <td>313275</td>\n",
              "    </tr>\n",
              "    <tr>\n",
              "      <th>25</th>\n",
              "      <td>(beach, hill)</td>\n",
              "      <td>313275</td>\n",
              "    </tr>\n",
              "    <tr>\n",
              "      <th>27</th>\n",
              "      <td>(want, experience)</td>\n",
              "      <td>313275</td>\n",
              "    </tr>\n",
              "    <tr>\n",
              "      <th>28</th>\n",
              "      <td>(experience, bay)</td>\n",
              "      <td>313275</td>\n",
              "    </tr>\n",
              "    <tr>\n",
              "      <th>29</th>\n",
              "      <td>(bay, fire)</td>\n",
              "      <td>313275</td>\n",
              "    </tr>\n",
              "    <tr>\n",
              "      <th>30</th>\n",
              "      <td>(fire, stay)</td>\n",
              "      <td>313275</td>\n",
              "    </tr>\n",
              "    <tr>\n",
              "      <th>34</th>\n",
              "      <td>(fantastic, price)</td>\n",
              "      <td>313275</td>\n",
              "    </tr>\n",
              "    <tr>\n",
              "      <th>35</th>\n",
              "      <td>(price, reasonable)</td>\n",
              "      <td>313275</td>\n",
              "    </tr>\n",
              "  </tbody>\n",
              "</table>\n",
              "</div>"
            ],
            "text/plain": [
              "                 bigram    freq\n",
              "1      (gorgeous, view)  313275\n",
              "23         (rock, pool)  313275\n",
              "24        (pool, beach)  313275\n",
              "25        (beach, hill)  313275\n",
              "27   (want, experience)  313275\n",
              "28    (experience, bay)  313275\n",
              "29          (bay, fire)  313275\n",
              "30         (fire, stay)  313275\n",
              "34   (fantastic, price)  313275\n",
              "35  (price, reasonable)  313275"
            ]
          },
          "metadata": {
            "tags": []
          },
          "execution_count": 234
        }
      ]
    },
    {
      "cell_type": "code",
      "metadata": {
        "id": "VjSsBDDg_x2v",
        "colab_type": "code",
        "colab": {}
      },
      "source": [
        "def rightTypesTri(ngram):\n",
        "    if '-pron-' in ngram or '' in ngram or ' 'in ngram or '  ' in ngram or 't' in ngram:\n",
        "        return False\n",
        "    for word in ngram:\n",
        "        if word in en_stopwords:\n",
        "            return False\n",
        "    first_type = ('JJ', 'JJR', 'JJS', 'NN', 'NNS', 'NNP', 'NNPS')\n",
        "    third_type = ('JJ', 'JJR', 'JJS', 'NN', 'NNS', 'NNP', 'NNPS')\n",
        "    tags = nltk.pos_tag(ngram)\n",
        "    if tags[0][1] in first_type and tags[2][1] in third_type:\n",
        "        return True\n",
        "    else:\n",
        "        return False"
      ],
      "execution_count": null,
      "outputs": []
    },
    {
      "cell_type": "code",
      "metadata": {
        "id": "F5RCAxuKnB6j",
        "colab_type": "code",
        "colab": {}
      },
      "source": [
        "trigram_freq = trigramFinder.ngram_fd.items()"
      ],
      "execution_count": null,
      "outputs": []
    },
    {
      "cell_type": "code",
      "metadata": {
        "id": "IQ9IvDf-nCPD",
        "colab_type": "code",
        "colab": {}
      },
      "source": [
        "trigramFreqTable = pd.DataFrame(list(trigram_freq), columns=['trigram','freq']).sort_values(by='freq', ascending=False)"
      ],
      "execution_count": null,
      "outputs": []
    },
    {
      "cell_type": "code",
      "metadata": {
        "id": "Ksam4essnCUv",
        "colab_type": "code",
        "colab": {
          "base_uri": "https://localhost:8080/",
          "height": 206
        },
        "outputId": "2c302c23-78e9-486d-d6b7-f950c3331215"
      },
      "source": [
        "trigramFreqTable.head().reset_index(drop=True)"
      ],
      "execution_count": null,
      "outputs": [
        {
          "output_type": "execute_result",
          "data": {
            "text/html": [
              "<div>\n",
              "<style scoped>\n",
              "    .dataframe tbody tr th:only-of-type {\n",
              "        vertical-align: middle;\n",
              "    }\n",
              "\n",
              "    .dataframe tbody tr th {\n",
              "        vertical-align: top;\n",
              "    }\n",
              "\n",
              "    .dataframe thead th {\n",
              "        text-align: right;\n",
              "    }\n",
              "</style>\n",
              "<table border=\"1\" class=\"dataframe\">\n",
              "  <thead>\n",
              "    <tr style=\"text-align: right;\">\n",
              "      <th></th>\n",
              "      <th>trigram</th>\n",
              "      <th>freq</th>\n",
              "    </tr>\n",
              "  </thead>\n",
              "  <tbody>\n",
              "    <tr>\n",
              "      <th>0</th>\n",
              "      <td>(place, gorgeous, view)</td>\n",
              "      <td>313275</td>\n",
              "    </tr>\n",
              "    <tr>\n",
              "      <th>1</th>\n",
              "      <td>(bay, fire, stay)</td>\n",
              "      <td>313275</td>\n",
              "    </tr>\n",
              "    <tr>\n",
              "      <th>2</th>\n",
              "      <td>(amazing, rock, pool)</td>\n",
              "      <td>313275</td>\n",
              "    </tr>\n",
              "    <tr>\n",
              "      <th>3</th>\n",
              "      <td>(rock, pool, beach)</td>\n",
              "      <td>313275</td>\n",
              "    </tr>\n",
              "    <tr>\n",
              "      <th>4</th>\n",
              "      <td>(pool, beach, hill)</td>\n",
              "      <td>313275</td>\n",
              "    </tr>\n",
              "  </tbody>\n",
              "</table>\n",
              "</div>"
            ],
            "text/plain": [
              "                   trigram    freq\n",
              "0  (place, gorgeous, view)  313275\n",
              "1        (bay, fire, stay)  313275\n",
              "2    (amazing, rock, pool)  313275\n",
              "3      (rock, pool, beach)  313275\n",
              "4      (pool, beach, hill)  313275"
            ]
          },
          "metadata": {
            "tags": []
          },
          "execution_count": 239
        }
      ]
    },
    {
      "cell_type": "code",
      "metadata": {
        "id": "I0hULD6mnJQH",
        "colab_type": "code",
        "colab": {
          "base_uri": "https://localhost:8080/",
          "height": 363
        },
        "outputId": "41cbfc07-c1b9-4444-d29e-5ed379a14661"
      },
      "source": [
        "trigramFreqTable[:10]"
      ],
      "execution_count": null,
      "outputs": [
        {
          "output_type": "execute_result",
          "data": {
            "text/html": [
              "<div>\n",
              "<style scoped>\n",
              "    .dataframe tbody tr th:only-of-type {\n",
              "        vertical-align: middle;\n",
              "    }\n",
              "\n",
              "    .dataframe tbody tr th {\n",
              "        vertical-align: top;\n",
              "    }\n",
              "\n",
              "    .dataframe thead th {\n",
              "        text-align: right;\n",
              "    }\n",
              "</style>\n",
              "<table border=\"1\" class=\"dataframe\">\n",
              "  <thead>\n",
              "    <tr style=\"text-align: right;\">\n",
              "      <th></th>\n",
              "      <th>trigram</th>\n",
              "      <th>freq</th>\n",
              "    </tr>\n",
              "  </thead>\n",
              "  <tbody>\n",
              "    <tr>\n",
              "      <th>0</th>\n",
              "      <td>(place, gorgeous, view)</td>\n",
              "      <td>313275</td>\n",
              "    </tr>\n",
              "    <tr>\n",
              "      <th>29</th>\n",
              "      <td>(bay, fire, stay)</td>\n",
              "      <td>313275</td>\n",
              "    </tr>\n",
              "    <tr>\n",
              "      <th>22</th>\n",
              "      <td>(amazing, rock, pool)</td>\n",
              "      <td>313275</td>\n",
              "    </tr>\n",
              "    <tr>\n",
              "      <th>23</th>\n",
              "      <td>(rock, pool, beach)</td>\n",
              "      <td>313275</td>\n",
              "    </tr>\n",
              "    <tr>\n",
              "      <th>24</th>\n",
              "      <td>(pool, beach, hill)</td>\n",
              "      <td>313275</td>\n",
              "    </tr>\n",
              "    <tr>\n",
              "      <th>25</th>\n",
              "      <td>(beach, hill, want)</td>\n",
              "      <td>313275</td>\n",
              "    </tr>\n",
              "    <tr>\n",
              "      <th>26</th>\n",
              "      <td>(hill, want, experience)</td>\n",
              "      <td>313275</td>\n",
              "    </tr>\n",
              "    <tr>\n",
              "      <th>27</th>\n",
              "      <td>(want, experience, bay)</td>\n",
              "      <td>313275</td>\n",
              "    </tr>\n",
              "    <tr>\n",
              "      <th>28</th>\n",
              "      <td>(experience, bay, fire)</td>\n",
              "      <td>313275</td>\n",
              "    </tr>\n",
              "    <tr>\n",
              "      <th>30</th>\n",
              "      <td>(fire, stay, \\n\\n)</td>\n",
              "      <td>313275</td>\n",
              "    </tr>\n",
              "  </tbody>\n",
              "</table>\n",
              "</div>"
            ],
            "text/plain": [
              "                     trigram    freq\n",
              "0    (place, gorgeous, view)  313275\n",
              "29         (bay, fire, stay)  313275\n",
              "22     (amazing, rock, pool)  313275\n",
              "23       (rock, pool, beach)  313275\n",
              "24       (pool, beach, hill)  313275\n",
              "25       (beach, hill, want)  313275\n",
              "26  (hill, want, experience)  313275\n",
              "27   (want, experience, bay)  313275\n",
              "28   (experience, bay, fire)  313275\n",
              "30        (fire, stay, \\n\\n)  313275"
            ]
          },
          "metadata": {
            "tags": []
          },
          "execution_count": 240
        }
      ]
    },
    {
      "cell_type": "code",
      "metadata": {
        "id": "pK373qB1_1mu",
        "colab_type": "code",
        "colab": {}
      },
      "source": [
        "filtered_tri = trigramFreqTable[trigramFreqTable.trigram.map(lambda x: rightTypesTri(x))]"
      ],
      "execution_count": null,
      "outputs": []
    },
    {
      "cell_type": "code",
      "metadata": {
        "id": "fjB7HzeV_8Mo",
        "colab_type": "code",
        "colab": {
          "base_uri": "https://localhost:8080/",
          "height": 363
        },
        "outputId": "b413011b-76f1-482d-b558-82db42dc3f60"
      },
      "source": [
        "filtered_tri[:10]"
      ],
      "execution_count": null,
      "outputs": [
        {
          "output_type": "execute_result",
          "data": {
            "text/html": [
              "<div>\n",
              "<style scoped>\n",
              "    .dataframe tbody tr th:only-of-type {\n",
              "        vertical-align: middle;\n",
              "    }\n",
              "\n",
              "    .dataframe tbody tr th {\n",
              "        vertical-align: top;\n",
              "    }\n",
              "\n",
              "    .dataframe thead th {\n",
              "        text-align: right;\n",
              "    }\n",
              "</style>\n",
              "<table border=\"1\" class=\"dataframe\">\n",
              "  <thead>\n",
              "    <tr style=\"text-align: right;\">\n",
              "      <th></th>\n",
              "      <th>trigram</th>\n",
              "      <th>freq</th>\n",
              "    </tr>\n",
              "  </thead>\n",
              "  <tbody>\n",
              "    <tr>\n",
              "      <th>0</th>\n",
              "      <td>(place, gorgeous, view)</td>\n",
              "      <td>313275</td>\n",
              "    </tr>\n",
              "    <tr>\n",
              "      <th>29</th>\n",
              "      <td>(bay, fire, stay)</td>\n",
              "      <td>313275</td>\n",
              "    </tr>\n",
              "    <tr>\n",
              "      <th>23</th>\n",
              "      <td>(rock, pool, beach)</td>\n",
              "      <td>313275</td>\n",
              "    </tr>\n",
              "    <tr>\n",
              "      <th>24</th>\n",
              "      <td>(pool, beach, hill)</td>\n",
              "      <td>313275</td>\n",
              "    </tr>\n",
              "    <tr>\n",
              "      <th>26</th>\n",
              "      <td>(hill, want, experience)</td>\n",
              "      <td>313275</td>\n",
              "    </tr>\n",
              "    <tr>\n",
              "      <th>27</th>\n",
              "      <td>(want, experience, bay)</td>\n",
              "      <td>313275</td>\n",
              "    </tr>\n",
              "    <tr>\n",
              "      <th>28</th>\n",
              "      <td>(experience, bay, fire)</td>\n",
              "      <td>313275</td>\n",
              "    </tr>\n",
              "    <tr>\n",
              "      <th>1</th>\n",
              "      <td>(gorgeous, view, fantastic)</td>\n",
              "      <td>313275</td>\n",
              "    </tr>\n",
              "    <tr>\n",
              "      <th>33</th>\n",
              "      <td>(host, fantastic, price)</td>\n",
              "      <td>313275</td>\n",
              "    </tr>\n",
              "    <tr>\n",
              "      <th>34</th>\n",
              "      <td>(fantastic, price, reasonable)</td>\n",
              "      <td>313275</td>\n",
              "    </tr>\n",
              "  </tbody>\n",
              "</table>\n",
              "</div>"
            ],
            "text/plain": [
              "                           trigram    freq\n",
              "0          (place, gorgeous, view)  313275\n",
              "29               (bay, fire, stay)  313275\n",
              "23             (rock, pool, beach)  313275\n",
              "24             (pool, beach, hill)  313275\n",
              "26        (hill, want, experience)  313275\n",
              "27         (want, experience, bay)  313275\n",
              "28         (experience, bay, fire)  313275\n",
              "1      (gorgeous, view, fantastic)  313275\n",
              "33        (host, fantastic, price)  313275\n",
              "34  (fantastic, price, reasonable)  313275"
            ]
          },
          "metadata": {
            "tags": []
          },
          "execution_count": 242
        }
      ]
    },
    {
      "cell_type": "code",
      "metadata": {
        "id": "9vhBCA_A_-cJ",
        "colab_type": "code",
        "colab": {}
      },
      "source": [
        "freq_bi = filtered_bi[:20].bigram.values"
      ],
      "execution_count": null,
      "outputs": []
    },
    {
      "cell_type": "code",
      "metadata": {
        "id": "FgylzGudAFbK",
        "colab_type": "code",
        "colab": {}
      },
      "source": [
        "freq_tri = filtered_tri[:20].trigram.values"
      ],
      "execution_count": null,
      "outputs": []
    },
    {
      "cell_type": "markdown",
      "metadata": {
        "id": "oLo7c434oAbj",
        "colab_type": "text"
      },
      "source": [
        "PMI"
      ]
    },
    {
      "cell_type": "code",
      "metadata": {
        "id": "WkhwIE1nAGzY",
        "colab_type": "code",
        "colab": {}
      },
      "source": [
        "bigramFinder.apply_freq_filter(20)"
      ],
      "execution_count": null,
      "outputs": []
    },
    {
      "cell_type": "code",
      "metadata": {
        "id": "K_YI1C43AKpg",
        "colab_type": "code",
        "colab": {}
      },
      "source": [
        "bigramPMITable = pd.DataFrame(list(bigramFinder.score_ngrams(bigrams.pmi)), columns=['bigram','PMI']).sort_values(by='PMI', ascending=False)"
      ],
      "execution_count": null,
      "outputs": []
    },
    {
      "cell_type": "code",
      "metadata": {
        "id": "EnIlSZmmnd_c",
        "colab_type": "code",
        "colab": {}
      },
      "source": [
        "bigramPMITable[bigramPMITable['bigram'] != '\\n\\n']"
      ],
      "execution_count": null,
      "outputs": []
    },
    {
      "cell_type": "code",
      "metadata": {
        "id": "9xSg9wRMALS0",
        "colab_type": "code",
        "colab": {
          "base_uri": "https://localhost:8080/",
          "height": 363
        },
        "outputId": "849dcf50-4b81-4903-c815-08d1aa075dd9"
      },
      "source": [
        "bigramPMITable[:10]"
      ],
      "execution_count": null,
      "outputs": [
        {
          "output_type": "execute_result",
          "data": {
            "text/html": [
              "<div>\n",
              "<style scoped>\n",
              "    .dataframe tbody tr th:only-of-type {\n",
              "        vertical-align: middle;\n",
              "    }\n",
              "\n",
              "    .dataframe tbody tr th {\n",
              "        vertical-align: top;\n",
              "    }\n",
              "\n",
              "    .dataframe thead th {\n",
              "        text-align: right;\n",
              "    }\n",
              "</style>\n",
              "<table border=\"1\" class=\"dataframe\">\n",
              "  <thead>\n",
              "    <tr style=\"text-align: right;\">\n",
              "      <th></th>\n",
              "      <th>bigram</th>\n",
              "      <th>PMI</th>\n",
              "    </tr>\n",
              "  </thead>\n",
              "  <tbody>\n",
              "    <tr>\n",
              "      <th>0</th>\n",
              "      <td>(\\n\\n, host)</td>\n",
              "      <td>5.321928</td>\n",
              "    </tr>\n",
              "    <tr>\n",
              "      <th>15</th>\n",
              "      <td>(lovely, enjoy)</td>\n",
              "      <td>5.321928</td>\n",
              "    </tr>\n",
              "    <tr>\n",
              "      <th>27</th>\n",
              "      <td>(want, experience)</td>\n",
              "      <td>5.321928</td>\n",
              "    </tr>\n",
              "    <tr>\n",
              "      <th>26</th>\n",
              "      <td>(uk, desperate)</td>\n",
              "      <td>5.321928</td>\n",
              "    </tr>\n",
              "    <tr>\n",
              "      <th>25</th>\n",
              "      <td>(stay, \\n\\n)</td>\n",
              "      <td>5.321928</td>\n",
              "    </tr>\n",
              "    <tr>\n",
              "      <th>24</th>\n",
              "      <td>(room, game)</td>\n",
              "      <td>5.321928</td>\n",
              "    </tr>\n",
              "    <tr>\n",
              "      <th>23</th>\n",
              "      <td>(rock, pool)</td>\n",
              "      <td>5.321928</td>\n",
              "    </tr>\n",
              "    <tr>\n",
              "      <th>22</th>\n",
              "      <td>(restaurant, nearby)</td>\n",
              "      <td>5.321928</td>\n",
              "    </tr>\n",
              "    <tr>\n",
              "      <th>21</th>\n",
              "      <td>(reasonable, uk)</td>\n",
              "      <td>5.321928</td>\n",
              "    </tr>\n",
              "    <tr>\n",
              "      <th>1</th>\n",
              "      <td>(amazing, rock)</td>\n",
              "      <td>5.321928</td>\n",
              "    </tr>\n",
              "  </tbody>\n",
              "</table>\n",
              "</div>"
            ],
            "text/plain": [
              "                  bigram       PMI\n",
              "0           (\\n\\n, host)  5.321928\n",
              "15       (lovely, enjoy)  5.321928\n",
              "27    (want, experience)  5.321928\n",
              "26       (uk, desperate)  5.321928\n",
              "25          (stay, \\n\\n)  5.321928\n",
              "24          (room, game)  5.321928\n",
              "23          (rock, pool)  5.321928\n",
              "22  (restaurant, nearby)  5.321928\n",
              "21      (reasonable, uk)  5.321928\n",
              "1        (amazing, rock)  5.321928"
            ]
          },
          "metadata": {
            "tags": []
          },
          "execution_count": 247
        }
      ]
    },
    {
      "cell_type": "code",
      "metadata": {
        "id": "AJ3_-Pu2o8g9",
        "colab_type": "code",
        "colab": {}
      },
      "source": [
        "filteredPMI_bi = bigramPMITable[bigramPMITable.bigram.map(lambda x: rightTypes(x))]"
      ],
      "execution_count": null,
      "outputs": []
    },
    {
      "cell_type": "code",
      "metadata": {
        "id": "GsgKqozJpHCB",
        "colab_type": "code",
        "colab": {
          "base_uri": "https://localhost:8080/",
          "height": 363
        },
        "outputId": "ed89fad5-0f87-4457-b6de-f6b8d67a35d0"
      },
      "source": [
        "filteredPMI_bi[:10]"
      ],
      "execution_count": null,
      "outputs": [
        {
          "output_type": "execute_result",
          "data": {
            "text/html": [
              "<div>\n",
              "<style scoped>\n",
              "    .dataframe tbody tr th:only-of-type {\n",
              "        vertical-align: middle;\n",
              "    }\n",
              "\n",
              "    .dataframe tbody tr th {\n",
              "        vertical-align: top;\n",
              "    }\n",
              "\n",
              "    .dataframe thead th {\n",
              "        text-align: right;\n",
              "    }\n",
              "</style>\n",
              "<table border=\"1\" class=\"dataframe\">\n",
              "  <thead>\n",
              "    <tr style=\"text-align: right;\">\n",
              "      <th></th>\n",
              "      <th>bigram</th>\n",
              "      <th>PMI</th>\n",
              "    </tr>\n",
              "  </thead>\n",
              "  <tbody>\n",
              "    <tr>\n",
              "      <th>27</th>\n",
              "      <td>(want, experience)</td>\n",
              "      <td>5.321928</td>\n",
              "    </tr>\n",
              "    <tr>\n",
              "      <th>26</th>\n",
              "      <td>(uk, desperate)</td>\n",
              "      <td>5.321928</td>\n",
              "    </tr>\n",
              "    <tr>\n",
              "      <th>24</th>\n",
              "      <td>(room, game)</td>\n",
              "      <td>5.321928</td>\n",
              "    </tr>\n",
              "    <tr>\n",
              "      <th>23</th>\n",
              "      <td>(rock, pool)</td>\n",
              "      <td>5.321928</td>\n",
              "    </tr>\n",
              "    <tr>\n",
              "      <th>22</th>\n",
              "      <td>(restaurant, nearby)</td>\n",
              "      <td>5.321928</td>\n",
              "    </tr>\n",
              "    <tr>\n",
              "      <th>21</th>\n",
              "      <td>(reasonable, uk)</td>\n",
              "      <td>5.321928</td>\n",
              "    </tr>\n",
              "    <tr>\n",
              "      <th>19</th>\n",
              "      <td>(pool, beach)</td>\n",
              "      <td>5.321928</td>\n",
              "    </tr>\n",
              "    <tr>\n",
              "      <th>17</th>\n",
              "      <td>(nice, restaurant)</td>\n",
              "      <td>5.321928</td>\n",
              "    </tr>\n",
              "    <tr>\n",
              "      <th>20</th>\n",
              "      <td>(price, reasonable)</td>\n",
              "      <td>5.321928</td>\n",
              "    </tr>\n",
              "    <tr>\n",
              "      <th>13</th>\n",
              "      <td>(house, amenity)</td>\n",
              "      <td>5.321928</td>\n",
              "    </tr>\n",
              "  </tbody>\n",
              "</table>\n",
              "</div>"
            ],
            "text/plain": [
              "                  bigram       PMI\n",
              "27    (want, experience)  5.321928\n",
              "26       (uk, desperate)  5.321928\n",
              "24          (room, game)  5.321928\n",
              "23          (rock, pool)  5.321928\n",
              "22  (restaurant, nearby)  5.321928\n",
              "21      (reasonable, uk)  5.321928\n",
              "19         (pool, beach)  5.321928\n",
              "17    (nice, restaurant)  5.321928\n",
              "20   (price, reasonable)  5.321928\n",
              "13      (house, amenity)  5.321928"
            ]
          },
          "metadata": {
            "tags": []
          },
          "execution_count": 262
        }
      ]
    },
    {
      "cell_type": "code",
      "metadata": {
        "id": "C8sMSSIuAPiK",
        "colab_type": "code",
        "colab": {}
      },
      "source": [
        "trigramFinder.apply_freq_filter(20)"
      ],
      "execution_count": null,
      "outputs": []
    },
    {
      "cell_type": "code",
      "metadata": {
        "id": "ZYG62rTUAQFZ",
        "colab_type": "code",
        "colab": {}
      },
      "source": [
        "trigramPMITable = pd.DataFrame(list(trigramFinder.score_ngrams(trigrams.pmi)), columns=['trigram','PMI']).sort_values(by='PMI', ascending=False)"
      ],
      "execution_count": null,
      "outputs": []
    },
    {
      "cell_type": "code",
      "metadata": {
        "id": "20SAFq-eARui",
        "colab_type": "code",
        "colab": {
          "base_uri": "https://localhost:8080/",
          "height": 363
        },
        "outputId": "6c8b761a-e1f7-4622-fc34-0a15ed414e8e"
      },
      "source": [
        "trigramPMITable[:10]"
      ],
      "execution_count": null,
      "outputs": [
        {
          "output_type": "execute_result",
          "data": {
            "text/html": [
              "<div>\n",
              "<style scoped>\n",
              "    .dataframe tbody tr th:only-of-type {\n",
              "        vertical-align: middle;\n",
              "    }\n",
              "\n",
              "    .dataframe tbody tr th {\n",
              "        vertical-align: top;\n",
              "    }\n",
              "\n",
              "    .dataframe thead th {\n",
              "        text-align: right;\n",
              "    }\n",
              "</style>\n",
              "<table border=\"1\" class=\"dataframe\">\n",
              "  <thead>\n",
              "    <tr style=\"text-align: right;\">\n",
              "      <th></th>\n",
              "      <th>trigram</th>\n",
              "      <th>PMI</th>\n",
              "    </tr>\n",
              "  </thead>\n",
              "  <tbody>\n",
              "    <tr>\n",
              "      <th>0</th>\n",
              "      <td>(amazing, rock, pool)</td>\n",
              "      <td>10.643856</td>\n",
              "    </tr>\n",
              "    <tr>\n",
              "      <th>12</th>\n",
              "      <td>(nearby, amazing, rock)</td>\n",
              "      <td>10.643856</td>\n",
              "    </tr>\n",
              "    <tr>\n",
              "      <th>22</th>\n",
              "      <td>(want, experience, bay)</td>\n",
              "      <td>10.643856</td>\n",
              "    </tr>\n",
              "    <tr>\n",
              "      <th>21</th>\n",
              "      <td>(uk, desperate, return)</td>\n",
              "      <td>10.643856</td>\n",
              "    </tr>\n",
              "    <tr>\n",
              "      <th>1</th>\n",
              "      <td>(amenity, layout, lovely)</td>\n",
              "      <td>10.643856</td>\n",
              "    </tr>\n",
              "    <tr>\n",
              "      <th>19</th>\n",
              "      <td>(room, game, dvd)</td>\n",
              "      <td>10.643856</td>\n",
              "    </tr>\n",
              "    <tr>\n",
              "      <th>18</th>\n",
              "      <td>(rock, pool, beach)</td>\n",
              "      <td>10.643856</td>\n",
              "    </tr>\n",
              "    <tr>\n",
              "      <th>17</th>\n",
              "      <td>(restaurant, nearby, amazing)</td>\n",
              "      <td>10.643856</td>\n",
              "    </tr>\n",
              "    <tr>\n",
              "      <th>16</th>\n",
              "      <td>(reasonable, uk, desperate)</td>\n",
              "      <td>10.643856</td>\n",
              "    </tr>\n",
              "    <tr>\n",
              "      <th>15</th>\n",
              "      <td>(price, reasonable, uk)</td>\n",
              "      <td>10.643856</td>\n",
              "    </tr>\n",
              "  </tbody>\n",
              "</table>\n",
              "</div>"
            ],
            "text/plain": [
              "                          trigram        PMI\n",
              "0           (amazing, rock, pool)  10.643856\n",
              "12        (nearby, amazing, rock)  10.643856\n",
              "22        (want, experience, bay)  10.643856\n",
              "21        (uk, desperate, return)  10.643856\n",
              "1       (amenity, layout, lovely)  10.643856\n",
              "19              (room, game, dvd)  10.643856\n",
              "18            (rock, pool, beach)  10.643856\n",
              "17  (restaurant, nearby, amazing)  10.643856\n",
              "16    (reasonable, uk, desperate)  10.643856\n",
              "15        (price, reasonable, uk)  10.643856"
            ]
          },
          "metadata": {
            "tags": []
          },
          "execution_count": 254
        }
      ]
    },
    {
      "cell_type": "code",
      "metadata": {
        "id": "pZHe5SinpOkZ",
        "colab_type": "code",
        "colab": {}
      },
      "source": [
        "filteredPMI_tri = trigramPMITable[trigramPMITable.trigram.map(lambda x: rightTypesTri(x))]"
      ],
      "execution_count": null,
      "outputs": []
    },
    {
      "cell_type": "code",
      "metadata": {
        "id": "D4Wy8xxWpTq6",
        "colab_type": "code",
        "colab": {
          "base_uri": "https://localhost:8080/",
          "height": 363
        },
        "outputId": "d390db70-40c0-4322-b49e-1cb107dcbaa1"
      },
      "source": [
        "filteredPMI_tri[:10]"
      ],
      "execution_count": null,
      "outputs": [
        {
          "output_type": "execute_result",
          "data": {
            "text/html": [
              "<div>\n",
              "<style scoped>\n",
              "    .dataframe tbody tr th:only-of-type {\n",
              "        vertical-align: middle;\n",
              "    }\n",
              "\n",
              "    .dataframe tbody tr th {\n",
              "        vertical-align: top;\n",
              "    }\n",
              "\n",
              "    .dataframe thead th {\n",
              "        text-align: right;\n",
              "    }\n",
              "</style>\n",
              "<table border=\"1\" class=\"dataframe\">\n",
              "  <thead>\n",
              "    <tr style=\"text-align: right;\">\n",
              "      <th></th>\n",
              "      <th>trigram</th>\n",
              "      <th>PMI</th>\n",
              "    </tr>\n",
              "  </thead>\n",
              "  <tbody>\n",
              "    <tr>\n",
              "      <th>22</th>\n",
              "      <td>(want, experience, bay)</td>\n",
              "      <td>10.643856</td>\n",
              "    </tr>\n",
              "    <tr>\n",
              "      <th>21</th>\n",
              "      <td>(uk, desperate, return)</td>\n",
              "      <td>10.643856</td>\n",
              "    </tr>\n",
              "    <tr>\n",
              "      <th>19</th>\n",
              "      <td>(room, game, dvd)</td>\n",
              "      <td>10.643856</td>\n",
              "    </tr>\n",
              "    <tr>\n",
              "      <th>18</th>\n",
              "      <td>(rock, pool, beach)</td>\n",
              "      <td>10.643856</td>\n",
              "    </tr>\n",
              "    <tr>\n",
              "      <th>17</th>\n",
              "      <td>(restaurant, nearby, amazing)</td>\n",
              "      <td>10.643856</td>\n",
              "    </tr>\n",
              "    <tr>\n",
              "      <th>16</th>\n",
              "      <td>(reasonable, uk, desperate)</td>\n",
              "      <td>10.643856</td>\n",
              "    </tr>\n",
              "    <tr>\n",
              "      <th>15</th>\n",
              "      <td>(price, reasonable, uk)</td>\n",
              "      <td>10.643856</td>\n",
              "    </tr>\n",
              "    <tr>\n",
              "      <th>14</th>\n",
              "      <td>(pool, beach, hill)</td>\n",
              "      <td>10.643856</td>\n",
              "    </tr>\n",
              "    <tr>\n",
              "      <th>13</th>\n",
              "      <td>(nice, restaurant, nearby)</td>\n",
              "      <td>10.643856</td>\n",
              "    </tr>\n",
              "    <tr>\n",
              "      <th>5</th>\n",
              "      <td>(experience, bay, fire)</td>\n",
              "      <td>10.643856</td>\n",
              "    </tr>\n",
              "  </tbody>\n",
              "</table>\n",
              "</div>"
            ],
            "text/plain": [
              "                          trigram        PMI\n",
              "22        (want, experience, bay)  10.643856\n",
              "21        (uk, desperate, return)  10.643856\n",
              "19              (room, game, dvd)  10.643856\n",
              "18            (rock, pool, beach)  10.643856\n",
              "17  (restaurant, nearby, amazing)  10.643856\n",
              "16    (reasonable, uk, desperate)  10.643856\n",
              "15        (price, reasonable, uk)  10.643856\n",
              "14            (pool, beach, hill)  10.643856\n",
              "13     (nice, restaurant, nearby)  10.643856\n",
              "5         (experience, bay, fire)  10.643856"
            ]
          },
          "metadata": {
            "tags": []
          },
          "execution_count": 266
        }
      ]
    },
    {
      "cell_type": "code",
      "metadata": {
        "id": "_632aU3sATvK",
        "colab_type": "code",
        "colab": {}
      },
      "source": [
        "pmi_bi = filteredPMI_bi[:20].bigram.values"
      ],
      "execution_count": null,
      "outputs": []
    },
    {
      "cell_type": "code",
      "metadata": {
        "id": "o9QgV4dDAYTG",
        "colab_type": "code",
        "colab": {}
      },
      "source": [
        "pmi_tri = filteredPMI_tri[:20].trigram.values"
      ],
      "execution_count": null,
      "outputs": []
    },
    {
      "cell_type": "markdown",
      "metadata": {
        "id": "AEHPIk7NoyJF",
        "colab_type": "text"
      },
      "source": [
        "T-Test"
      ]
    },
    {
      "cell_type": "code",
      "metadata": {
        "id": "JGyRiyVxA70r",
        "colab_type": "code",
        "colab": {}
      },
      "source": [
        "bigramTtable = pd.DataFrame(list(bigramFinder.score_ngrams(bigrams.student_t)), columns=['bigram','t']).sort_values(by='t', ascending=False)"
      ],
      "execution_count": null,
      "outputs": []
    },
    {
      "cell_type": "code",
      "metadata": {
        "id": "PDpG03tZA8ZY",
        "colab_type": "code",
        "colab": {
          "base_uri": "https://localhost:8080/",
          "height": 206
        },
        "outputId": "c2030cef-7868-4640-bc78-ab75d3ca83e0"
      },
      "source": [
        "bigramTtable.head()"
      ],
      "execution_count": null,
      "outputs": [
        {
          "output_type": "execute_result",
          "data": {
            "text/html": [
              "<div>\n",
              "<style scoped>\n",
              "    .dataframe tbody tr th:only-of-type {\n",
              "        vertical-align: middle;\n",
              "    }\n",
              "\n",
              "    .dataframe tbody tr th {\n",
              "        vertical-align: top;\n",
              "    }\n",
              "\n",
              "    .dataframe thead th {\n",
              "        text-align: right;\n",
              "    }\n",
              "</style>\n",
              "<table border=\"1\" class=\"dataframe\">\n",
              "  <thead>\n",
              "    <tr style=\"text-align: right;\">\n",
              "      <th></th>\n",
              "      <th>bigram</th>\n",
              "      <th>t</th>\n",
              "    </tr>\n",
              "  </thead>\n",
              "  <tbody>\n",
              "    <tr>\n",
              "      <th>0</th>\n",
              "      <td>(\\n\\n, host)</td>\n",
              "      <td>545.717003</td>\n",
              "    </tr>\n",
              "    <tr>\n",
              "      <th>15</th>\n",
              "      <td>(lovely, enjoy)</td>\n",
              "      <td>545.717003</td>\n",
              "    </tr>\n",
              "    <tr>\n",
              "      <th>27</th>\n",
              "      <td>(want, experience)</td>\n",
              "      <td>545.717003</td>\n",
              "    </tr>\n",
              "    <tr>\n",
              "      <th>26</th>\n",
              "      <td>(uk, desperate)</td>\n",
              "      <td>545.717003</td>\n",
              "    </tr>\n",
              "    <tr>\n",
              "      <th>25</th>\n",
              "      <td>(stay, \\n\\n)</td>\n",
              "      <td>545.717003</td>\n",
              "    </tr>\n",
              "  </tbody>\n",
              "</table>\n",
              "</div>"
            ],
            "text/plain": [
              "                bigram           t\n",
              "0         (\\n\\n, host)  545.717003\n",
              "15     (lovely, enjoy)  545.717003\n",
              "27  (want, experience)  545.717003\n",
              "26     (uk, desperate)  545.717003\n",
              "25        (stay, \\n\\n)  545.717003"
            ]
          },
          "metadata": {
            "tags": []
          },
          "execution_count": 258
        }
      ]
    },
    {
      "cell_type": "code",
      "metadata": {
        "id": "H8mq6q6IA97I",
        "colab_type": "code",
        "colab": {}
      },
      "source": [
        "filteredT_bi = bigramTtable[bigramTtable.bigram.map(lambda x: rightTypes(x))]"
      ],
      "execution_count": null,
      "outputs": []
    },
    {
      "cell_type": "code",
      "metadata": {
        "id": "KUF-Ysh4BAwe",
        "colab_type": "code",
        "colab": {
          "base_uri": "https://localhost:8080/",
          "height": 363
        },
        "outputId": "d2d88fb3-c960-4a7f-8d27-16ccb1e20162"
      },
      "source": [
        "filteredT_bi[:10]"
      ],
      "execution_count": null,
      "outputs": [
        {
          "output_type": "execute_result",
          "data": {
            "text/html": [
              "<div>\n",
              "<style scoped>\n",
              "    .dataframe tbody tr th:only-of-type {\n",
              "        vertical-align: middle;\n",
              "    }\n",
              "\n",
              "    .dataframe tbody tr th {\n",
              "        vertical-align: top;\n",
              "    }\n",
              "\n",
              "    .dataframe thead th {\n",
              "        text-align: right;\n",
              "    }\n",
              "</style>\n",
              "<table border=\"1\" class=\"dataframe\">\n",
              "  <thead>\n",
              "    <tr style=\"text-align: right;\">\n",
              "      <th></th>\n",
              "      <th>bigram</th>\n",
              "      <th>t</th>\n",
              "    </tr>\n",
              "  </thead>\n",
              "  <tbody>\n",
              "    <tr>\n",
              "      <th>27</th>\n",
              "      <td>(want, experience)</td>\n",
              "      <td>545.717003</td>\n",
              "    </tr>\n",
              "    <tr>\n",
              "      <th>26</th>\n",
              "      <td>(uk, desperate)</td>\n",
              "      <td>545.717003</td>\n",
              "    </tr>\n",
              "    <tr>\n",
              "      <th>24</th>\n",
              "      <td>(room, game)</td>\n",
              "      <td>545.717003</td>\n",
              "    </tr>\n",
              "    <tr>\n",
              "      <th>23</th>\n",
              "      <td>(rock, pool)</td>\n",
              "      <td>545.717003</td>\n",
              "    </tr>\n",
              "    <tr>\n",
              "      <th>22</th>\n",
              "      <td>(restaurant, nearby)</td>\n",
              "      <td>545.717003</td>\n",
              "    </tr>\n",
              "    <tr>\n",
              "      <th>21</th>\n",
              "      <td>(reasonable, uk)</td>\n",
              "      <td>545.717003</td>\n",
              "    </tr>\n",
              "    <tr>\n",
              "      <th>19</th>\n",
              "      <td>(pool, beach)</td>\n",
              "      <td>545.717003</td>\n",
              "    </tr>\n",
              "    <tr>\n",
              "      <th>17</th>\n",
              "      <td>(nice, restaurant)</td>\n",
              "      <td>545.717003</td>\n",
              "    </tr>\n",
              "    <tr>\n",
              "      <th>20</th>\n",
              "      <td>(price, reasonable)</td>\n",
              "      <td>545.717003</td>\n",
              "    </tr>\n",
              "    <tr>\n",
              "      <th>13</th>\n",
              "      <td>(house, amenity)</td>\n",
              "      <td>545.717003</td>\n",
              "    </tr>\n",
              "  </tbody>\n",
              "</table>\n",
              "</div>"
            ],
            "text/plain": [
              "                  bigram           t\n",
              "27    (want, experience)  545.717003\n",
              "26       (uk, desperate)  545.717003\n",
              "24          (room, game)  545.717003\n",
              "23          (rock, pool)  545.717003\n",
              "22  (restaurant, nearby)  545.717003\n",
              "21      (reasonable, uk)  545.717003\n",
              "19         (pool, beach)  545.717003\n",
              "17    (nice, restaurant)  545.717003\n",
              "20   (price, reasonable)  545.717003\n",
              "13      (house, amenity)  545.717003"
            ]
          },
          "metadata": {
            "tags": []
          },
          "execution_count": 260
        }
      ]
    },
    {
      "cell_type": "code",
      "metadata": {
        "id": "kr1u5mxlBCsw",
        "colab_type": "code",
        "colab": {}
      },
      "source": [
        "trigramTtable = pd.DataFrame(list(trigramFinder.score_ngrams(trigrams.student_t)), columns=['trigram','t']).sort_values(by='t', ascending=False)"
      ],
      "execution_count": null,
      "outputs": []
    },
    {
      "cell_type": "code",
      "metadata": {
        "id": "2vSm1fRuBEv1",
        "colab_type": "code",
        "colab": {
          "base_uri": "https://localhost:8080/",
          "height": 206
        },
        "outputId": "cbb478ad-094d-4b88-9c1f-9e78453e676e"
      },
      "source": [
        "trigramTtable.head()"
      ],
      "execution_count": null,
      "outputs": [
        {
          "output_type": "execute_result",
          "data": {
            "text/html": [
              "<div>\n",
              "<style scoped>\n",
              "    .dataframe tbody tr th:only-of-type {\n",
              "        vertical-align: middle;\n",
              "    }\n",
              "\n",
              "    .dataframe tbody tr th {\n",
              "        vertical-align: top;\n",
              "    }\n",
              "\n",
              "    .dataframe thead th {\n",
              "        text-align: right;\n",
              "    }\n",
              "</style>\n",
              "<table border=\"1\" class=\"dataframe\">\n",
              "  <thead>\n",
              "    <tr style=\"text-align: right;\">\n",
              "      <th></th>\n",
              "      <th>trigram</th>\n",
              "      <th>t</th>\n",
              "    </tr>\n",
              "  </thead>\n",
              "  <tbody>\n",
              "    <tr>\n",
              "      <th>0</th>\n",
              "      <td>(amazing, rock, pool)</td>\n",
              "      <td>559.359928</td>\n",
              "    </tr>\n",
              "    <tr>\n",
              "      <th>12</th>\n",
              "      <td>(nearby, amazing, rock)</td>\n",
              "      <td>559.359928</td>\n",
              "    </tr>\n",
              "    <tr>\n",
              "      <th>22</th>\n",
              "      <td>(want, experience, bay)</td>\n",
              "      <td>559.359928</td>\n",
              "    </tr>\n",
              "    <tr>\n",
              "      <th>21</th>\n",
              "      <td>(uk, desperate, return)</td>\n",
              "      <td>559.359928</td>\n",
              "    </tr>\n",
              "    <tr>\n",
              "      <th>1</th>\n",
              "      <td>(amenity, layout, lovely)</td>\n",
              "      <td>559.359928</td>\n",
              "    </tr>\n",
              "  </tbody>\n",
              "</table>\n",
              "</div>"
            ],
            "text/plain": [
              "                      trigram           t\n",
              "0       (amazing, rock, pool)  559.359928\n",
              "12    (nearby, amazing, rock)  559.359928\n",
              "22    (want, experience, bay)  559.359928\n",
              "21    (uk, desperate, return)  559.359928\n",
              "1   (amenity, layout, lovely)  559.359928"
            ]
          },
          "metadata": {
            "tags": []
          },
          "execution_count": 264
        }
      ]
    },
    {
      "cell_type": "code",
      "metadata": {
        "id": "tmh370o3BGei",
        "colab_type": "code",
        "colab": {}
      },
      "source": [
        "filteredT_tri = trigramTtable[trigramTtable.trigram.map(lambda x: rightTypesTri(x))]"
      ],
      "execution_count": null,
      "outputs": []
    },
    {
      "cell_type": "code",
      "metadata": {
        "id": "GbttFNkgBIcy",
        "colab_type": "code",
        "colab": {
          "base_uri": "https://localhost:8080/",
          "height": 363
        },
        "outputId": "f2b76bf0-f19b-48b5-e23a-c0c4a70acc94"
      },
      "source": [
        "filteredT_tri.head(10)"
      ],
      "execution_count": null,
      "outputs": [
        {
          "output_type": "execute_result",
          "data": {
            "text/html": [
              "<div>\n",
              "<style scoped>\n",
              "    .dataframe tbody tr th:only-of-type {\n",
              "        vertical-align: middle;\n",
              "    }\n",
              "\n",
              "    .dataframe tbody tr th {\n",
              "        vertical-align: top;\n",
              "    }\n",
              "\n",
              "    .dataframe thead th {\n",
              "        text-align: right;\n",
              "    }\n",
              "</style>\n",
              "<table border=\"1\" class=\"dataframe\">\n",
              "  <thead>\n",
              "    <tr style=\"text-align: right;\">\n",
              "      <th></th>\n",
              "      <th>trigram</th>\n",
              "      <th>t</th>\n",
              "    </tr>\n",
              "  </thead>\n",
              "  <tbody>\n",
              "    <tr>\n",
              "      <th>22</th>\n",
              "      <td>(want, experience, bay)</td>\n",
              "      <td>559.359928</td>\n",
              "    </tr>\n",
              "    <tr>\n",
              "      <th>21</th>\n",
              "      <td>(uk, desperate, return)</td>\n",
              "      <td>559.359928</td>\n",
              "    </tr>\n",
              "    <tr>\n",
              "      <th>19</th>\n",
              "      <td>(room, game, dvd)</td>\n",
              "      <td>559.359928</td>\n",
              "    </tr>\n",
              "    <tr>\n",
              "      <th>18</th>\n",
              "      <td>(rock, pool, beach)</td>\n",
              "      <td>559.359928</td>\n",
              "    </tr>\n",
              "    <tr>\n",
              "      <th>17</th>\n",
              "      <td>(restaurant, nearby, amazing)</td>\n",
              "      <td>559.359928</td>\n",
              "    </tr>\n",
              "    <tr>\n",
              "      <th>16</th>\n",
              "      <td>(reasonable, uk, desperate)</td>\n",
              "      <td>559.359928</td>\n",
              "    </tr>\n",
              "    <tr>\n",
              "      <th>15</th>\n",
              "      <td>(price, reasonable, uk)</td>\n",
              "      <td>559.359928</td>\n",
              "    </tr>\n",
              "    <tr>\n",
              "      <th>14</th>\n",
              "      <td>(pool, beach, hill)</td>\n",
              "      <td>559.359928</td>\n",
              "    </tr>\n",
              "    <tr>\n",
              "      <th>13</th>\n",
              "      <td>(nice, restaurant, nearby)</td>\n",
              "      <td>559.359928</td>\n",
              "    </tr>\n",
              "    <tr>\n",
              "      <th>5</th>\n",
              "      <td>(experience, bay, fire)</td>\n",
              "      <td>559.359928</td>\n",
              "    </tr>\n",
              "  </tbody>\n",
              "</table>\n",
              "</div>"
            ],
            "text/plain": [
              "                          trigram           t\n",
              "22        (want, experience, bay)  559.359928\n",
              "21        (uk, desperate, return)  559.359928\n",
              "19              (room, game, dvd)  559.359928\n",
              "18            (rock, pool, beach)  559.359928\n",
              "17  (restaurant, nearby, amazing)  559.359928\n",
              "16    (reasonable, uk, desperate)  559.359928\n",
              "15        (price, reasonable, uk)  559.359928\n",
              "14            (pool, beach, hill)  559.359928\n",
              "13     (nice, restaurant, nearby)  559.359928\n",
              "5         (experience, bay, fire)  559.359928"
            ]
          },
          "metadata": {
            "tags": []
          },
          "execution_count": 272
        }
      ]
    },
    {
      "cell_type": "code",
      "metadata": {
        "id": "0OkRfUWaBMd0",
        "colab_type": "code",
        "colab": {}
      },
      "source": [
        "t_bi = filteredT_bi[:20].bigram.values"
      ],
      "execution_count": null,
      "outputs": []
    },
    {
      "cell_type": "code",
      "metadata": {
        "id": "qx7jMCNRBOWw",
        "colab_type": "code",
        "colab": {}
      },
      "source": [
        "t_tri = filteredT_tri[:20].trigram.values"
      ],
      "execution_count": null,
      "outputs": []
    },
    {
      "cell_type": "markdown",
      "metadata": {
        "id": "xX4_dt8MplIC",
        "colab_type": "text"
      },
      "source": [
        "Chi-Square"
      ]
    },
    {
      "cell_type": "code",
      "metadata": {
        "id": "lllxTTmXBQIr",
        "colab_type": "code",
        "colab": {}
      },
      "source": [
        "bigramChiTable = pd.DataFrame(list(bigramFinder.score_ngrams(bigrams.chi_sq)), columns=['bigram','chi-sq']).sort_values(by='chi-sq', ascending=False)"
      ],
      "execution_count": null,
      "outputs": []
    },
    {
      "cell_type": "code",
      "metadata": {
        "id": "H6F_gXllBRvR",
        "colab_type": "code",
        "colab": {
          "base_uri": "https://localhost:8080/",
          "height": 363
        },
        "outputId": "d50b7d17-8d32-4526-cb4c-3196b90c0826"
      },
      "source": [
        "bigramChiTable.head(10)"
      ],
      "execution_count": null,
      "outputs": [
        {
          "output_type": "execute_result",
          "data": {
            "text/html": [
              "<div>\n",
              "<style scoped>\n",
              "    .dataframe tbody tr th:only-of-type {\n",
              "        vertical-align: middle;\n",
              "    }\n",
              "\n",
              "    .dataframe tbody tr th {\n",
              "        vertical-align: top;\n",
              "    }\n",
              "\n",
              "    .dataframe thead th {\n",
              "        text-align: right;\n",
              "    }\n",
              "</style>\n",
              "<table border=\"1\" class=\"dataframe\">\n",
              "  <thead>\n",
              "    <tr style=\"text-align: right;\">\n",
              "      <th></th>\n",
              "      <th>bigram</th>\n",
              "      <th>chi-sq</th>\n",
              "    </tr>\n",
              "  </thead>\n",
              "  <tbody>\n",
              "    <tr>\n",
              "      <th>0</th>\n",
              "      <td>(\\n\\n, host)</td>\n",
              "      <td>12531000.0</td>\n",
              "    </tr>\n",
              "    <tr>\n",
              "      <th>15</th>\n",
              "      <td>(lovely, enjoy)</td>\n",
              "      <td>12531000.0</td>\n",
              "    </tr>\n",
              "    <tr>\n",
              "      <th>27</th>\n",
              "      <td>(want, experience)</td>\n",
              "      <td>12531000.0</td>\n",
              "    </tr>\n",
              "    <tr>\n",
              "      <th>26</th>\n",
              "      <td>(uk, desperate)</td>\n",
              "      <td>12531000.0</td>\n",
              "    </tr>\n",
              "    <tr>\n",
              "      <th>25</th>\n",
              "      <td>(stay, \\n\\n)</td>\n",
              "      <td>12531000.0</td>\n",
              "    </tr>\n",
              "    <tr>\n",
              "      <th>24</th>\n",
              "      <td>(room, game)</td>\n",
              "      <td>12531000.0</td>\n",
              "    </tr>\n",
              "    <tr>\n",
              "      <th>23</th>\n",
              "      <td>(rock, pool)</td>\n",
              "      <td>12531000.0</td>\n",
              "    </tr>\n",
              "    <tr>\n",
              "      <th>22</th>\n",
              "      <td>(restaurant, nearby)</td>\n",
              "      <td>12531000.0</td>\n",
              "    </tr>\n",
              "    <tr>\n",
              "      <th>21</th>\n",
              "      <td>(reasonable, uk)</td>\n",
              "      <td>12531000.0</td>\n",
              "    </tr>\n",
              "    <tr>\n",
              "      <th>1</th>\n",
              "      <td>(amazing, rock)</td>\n",
              "      <td>12531000.0</td>\n",
              "    </tr>\n",
              "  </tbody>\n",
              "</table>\n",
              "</div>"
            ],
            "text/plain": [
              "                  bigram      chi-sq\n",
              "0           (\\n\\n, host)  12531000.0\n",
              "15       (lovely, enjoy)  12531000.0\n",
              "27    (want, experience)  12531000.0\n",
              "26       (uk, desperate)  12531000.0\n",
              "25          (stay, \\n\\n)  12531000.0\n",
              "24          (room, game)  12531000.0\n",
              "23          (rock, pool)  12531000.0\n",
              "22  (restaurant, nearby)  12531000.0\n",
              "21      (reasonable, uk)  12531000.0\n",
              "1        (amazing, rock)  12531000.0"
            ]
          },
          "metadata": {
            "tags": []
          },
          "execution_count": 277
        }
      ]
    },
    {
      "cell_type": "code",
      "metadata": {
        "id": "Pe4kML3Epro3",
        "colab_type": "code",
        "colab": {}
      },
      "source": [
        "filteredCHI_bi = bigramChiTable[bigramChiTable.bigram.map(lambda x: rightTypes(x))]"
      ],
      "execution_count": null,
      "outputs": []
    },
    {
      "cell_type": "code",
      "metadata": {
        "id": "Oe8LE6Jxpznx",
        "colab_type": "code",
        "colab": {
          "base_uri": "https://localhost:8080/",
          "height": 363
        },
        "outputId": "deadf6f3-bed1-4ac0-d500-e69fa6e66c39"
      },
      "source": [
        "filteredCHI_bi[:10]"
      ],
      "execution_count": null,
      "outputs": [
        {
          "output_type": "execute_result",
          "data": {
            "text/html": [
              "<div>\n",
              "<style scoped>\n",
              "    .dataframe tbody tr th:only-of-type {\n",
              "        vertical-align: middle;\n",
              "    }\n",
              "\n",
              "    .dataframe tbody tr th {\n",
              "        vertical-align: top;\n",
              "    }\n",
              "\n",
              "    .dataframe thead th {\n",
              "        text-align: right;\n",
              "    }\n",
              "</style>\n",
              "<table border=\"1\" class=\"dataframe\">\n",
              "  <thead>\n",
              "    <tr style=\"text-align: right;\">\n",
              "      <th></th>\n",
              "      <th>bigram</th>\n",
              "      <th>chi-sq</th>\n",
              "    </tr>\n",
              "  </thead>\n",
              "  <tbody>\n",
              "    <tr>\n",
              "      <th>27</th>\n",
              "      <td>(want, experience)</td>\n",
              "      <td>12531000.0</td>\n",
              "    </tr>\n",
              "    <tr>\n",
              "      <th>26</th>\n",
              "      <td>(uk, desperate)</td>\n",
              "      <td>12531000.0</td>\n",
              "    </tr>\n",
              "    <tr>\n",
              "      <th>24</th>\n",
              "      <td>(room, game)</td>\n",
              "      <td>12531000.0</td>\n",
              "    </tr>\n",
              "    <tr>\n",
              "      <th>23</th>\n",
              "      <td>(rock, pool)</td>\n",
              "      <td>12531000.0</td>\n",
              "    </tr>\n",
              "    <tr>\n",
              "      <th>22</th>\n",
              "      <td>(restaurant, nearby)</td>\n",
              "      <td>12531000.0</td>\n",
              "    </tr>\n",
              "    <tr>\n",
              "      <th>21</th>\n",
              "      <td>(reasonable, uk)</td>\n",
              "      <td>12531000.0</td>\n",
              "    </tr>\n",
              "    <tr>\n",
              "      <th>19</th>\n",
              "      <td>(pool, beach)</td>\n",
              "      <td>12531000.0</td>\n",
              "    </tr>\n",
              "    <tr>\n",
              "      <th>17</th>\n",
              "      <td>(nice, restaurant)</td>\n",
              "      <td>12531000.0</td>\n",
              "    </tr>\n",
              "    <tr>\n",
              "      <th>20</th>\n",
              "      <td>(price, reasonable)</td>\n",
              "      <td>12531000.0</td>\n",
              "    </tr>\n",
              "    <tr>\n",
              "      <th>13</th>\n",
              "      <td>(house, amenity)</td>\n",
              "      <td>12531000.0</td>\n",
              "    </tr>\n",
              "  </tbody>\n",
              "</table>\n",
              "</div>"
            ],
            "text/plain": [
              "                  bigram      chi-sq\n",
              "27    (want, experience)  12531000.0\n",
              "26       (uk, desperate)  12531000.0\n",
              "24          (room, game)  12531000.0\n",
              "23          (rock, pool)  12531000.0\n",
              "22  (restaurant, nearby)  12531000.0\n",
              "21      (reasonable, uk)  12531000.0\n",
              "19         (pool, beach)  12531000.0\n",
              "17    (nice, restaurant)  12531000.0\n",
              "20   (price, reasonable)  12531000.0\n",
              "13      (house, amenity)  12531000.0"
            ]
          },
          "metadata": {
            "tags": []
          },
          "execution_count": 279
        }
      ]
    },
    {
      "cell_type": "code",
      "metadata": {
        "id": "MHXosSuFBTuq",
        "colab_type": "code",
        "colab": {}
      },
      "source": [
        "trigramChiTable = pd.DataFrame(list(trigramFinder.score_ngrams(trigrams.chi_sq)), columns=['trigram','chi-sq']).sort_values(by='chi-sq', ascending=False)"
      ],
      "execution_count": null,
      "outputs": []
    },
    {
      "cell_type": "code",
      "metadata": {
        "id": "WrZPxDKiBXP_",
        "colab_type": "code",
        "colab": {
          "base_uri": "https://localhost:8080/",
          "height": 363
        },
        "outputId": "2fe0b555-6579-42aa-c87d-548c3134a748"
      },
      "source": [
        "trigramChiTable.head(10)"
      ],
      "execution_count": null,
      "outputs": [
        {
          "output_type": "execute_result",
          "data": {
            "text/html": [
              "<div>\n",
              "<style scoped>\n",
              "    .dataframe tbody tr th:only-of-type {\n",
              "        vertical-align: middle;\n",
              "    }\n",
              "\n",
              "    .dataframe tbody tr th {\n",
              "        vertical-align: top;\n",
              "    }\n",
              "\n",
              "    .dataframe thead th {\n",
              "        text-align: right;\n",
              "    }\n",
              "</style>\n",
              "<table border=\"1\" class=\"dataframe\">\n",
              "  <thead>\n",
              "    <tr style=\"text-align: right;\">\n",
              "      <th></th>\n",
              "      <th>trigram</th>\n",
              "      <th>chi-sq</th>\n",
              "    </tr>\n",
              "  </thead>\n",
              "  <tbody>\n",
              "    <tr>\n",
              "      <th>0</th>\n",
              "      <td>(amazing, rock, pool)</td>\n",
              "      <td>5.015613e+08</td>\n",
              "    </tr>\n",
              "    <tr>\n",
              "      <th>12</th>\n",
              "      <td>(nearby, amazing, rock)</td>\n",
              "      <td>5.015613e+08</td>\n",
              "    </tr>\n",
              "    <tr>\n",
              "      <th>22</th>\n",
              "      <td>(want, experience, bay)</td>\n",
              "      <td>5.015613e+08</td>\n",
              "    </tr>\n",
              "    <tr>\n",
              "      <th>21</th>\n",
              "      <td>(uk, desperate, return)</td>\n",
              "      <td>5.015613e+08</td>\n",
              "    </tr>\n",
              "    <tr>\n",
              "      <th>1</th>\n",
              "      <td>(amenity, layout, lovely)</td>\n",
              "      <td>5.015613e+08</td>\n",
              "    </tr>\n",
              "    <tr>\n",
              "      <th>19</th>\n",
              "      <td>(room, game, dvd)</td>\n",
              "      <td>5.015613e+08</td>\n",
              "    </tr>\n",
              "    <tr>\n",
              "      <th>18</th>\n",
              "      <td>(rock, pool, beach)</td>\n",
              "      <td>5.015613e+08</td>\n",
              "    </tr>\n",
              "    <tr>\n",
              "      <th>17</th>\n",
              "      <td>(restaurant, nearby, amazing)</td>\n",
              "      <td>5.015613e+08</td>\n",
              "    </tr>\n",
              "    <tr>\n",
              "      <th>16</th>\n",
              "      <td>(reasonable, uk, desperate)</td>\n",
              "      <td>5.015613e+08</td>\n",
              "    </tr>\n",
              "    <tr>\n",
              "      <th>15</th>\n",
              "      <td>(price, reasonable, uk)</td>\n",
              "      <td>5.015613e+08</td>\n",
              "    </tr>\n",
              "  </tbody>\n",
              "</table>\n",
              "</div>"
            ],
            "text/plain": [
              "                          trigram        chi-sq\n",
              "0           (amazing, rock, pool)  5.015613e+08\n",
              "12        (nearby, amazing, rock)  5.015613e+08\n",
              "22        (want, experience, bay)  5.015613e+08\n",
              "21        (uk, desperate, return)  5.015613e+08\n",
              "1       (amenity, layout, lovely)  5.015613e+08\n",
              "19              (room, game, dvd)  5.015613e+08\n",
              "18            (rock, pool, beach)  5.015613e+08\n",
              "17  (restaurant, nearby, amazing)  5.015613e+08\n",
              "16    (reasonable, uk, desperate)  5.015613e+08\n",
              "15        (price, reasonable, uk)  5.015613e+08"
            ]
          },
          "metadata": {
            "tags": []
          },
          "execution_count": 281
        }
      ]
    },
    {
      "cell_type": "code",
      "metadata": {
        "id": "w91CwBcep7yQ",
        "colab_type": "code",
        "colab": {}
      },
      "source": [
        "filteredCHI_tri = trigramChiTable[trigramChiTable.trigram.map(lambda x: rightTypesTri(x))]"
      ],
      "execution_count": null,
      "outputs": []
    },
    {
      "cell_type": "code",
      "metadata": {
        "id": "55n0FR9aBY2w",
        "colab_type": "code",
        "colab": {}
      },
      "source": [
        "chi_bi = filteredCHI_bi[:20].bigram.values\n",
        "\n",
        "chi_tri = filteredCHI_tri[:20].trigram.values"
      ],
      "execution_count": null,
      "outputs": []
    },
    {
      "cell_type": "markdown",
      "metadata": {
        "id": "YZFerOdPqN_q",
        "colab_type": "text"
      },
      "source": [
        "Likelihood"
      ]
    },
    {
      "cell_type": "code",
      "metadata": {
        "id": "ikyLW9u7BcmZ",
        "colab_type": "code",
        "colab": {}
      },
      "source": [
        "bigramLikTable = pd.DataFrame(list(bigramFinder.score_ngrams(bigrams.likelihood_ratio)), columns=['bigram','likelihood ratio']).sort_values(by='likelihood ratio', ascending=False)"
      ],
      "execution_count": null,
      "outputs": []
    },
    {
      "cell_type": "code",
      "metadata": {
        "id": "mEFc3GpxBgaO",
        "colab_type": "code",
        "colab": {
          "base_uri": "https://localhost:8080/",
          "height": 206
        },
        "outputId": "c440af88-794c-41cd-ee7b-cf8906772670"
      },
      "source": [
        "bigramLikTable.head()"
      ],
      "execution_count": null,
      "outputs": [
        {
          "output_type": "execute_result",
          "data": {
            "text/html": [
              "<div>\n",
              "<style scoped>\n",
              "    .dataframe tbody tr th:only-of-type {\n",
              "        vertical-align: middle;\n",
              "    }\n",
              "\n",
              "    .dataframe tbody tr th {\n",
              "        vertical-align: top;\n",
              "    }\n",
              "\n",
              "    .dataframe thead th {\n",
              "        text-align: right;\n",
              "    }\n",
              "</style>\n",
              "<table border=\"1\" class=\"dataframe\">\n",
              "  <thead>\n",
              "    <tr style=\"text-align: right;\">\n",
              "      <th></th>\n",
              "      <th>bigram</th>\n",
              "      <th>likelihood ratio</th>\n",
              "    </tr>\n",
              "  </thead>\n",
              "  <tbody>\n",
              "    <tr>\n",
              "      <th>0</th>\n",
              "      <td>(\\n\\n, host)</td>\n",
              "      <td>2.929919e+06</td>\n",
              "    </tr>\n",
              "    <tr>\n",
              "      <th>15</th>\n",
              "      <td>(lovely, enjoy)</td>\n",
              "      <td>2.929919e+06</td>\n",
              "    </tr>\n",
              "    <tr>\n",
              "      <th>27</th>\n",
              "      <td>(want, experience)</td>\n",
              "      <td>2.929919e+06</td>\n",
              "    </tr>\n",
              "    <tr>\n",
              "      <th>26</th>\n",
              "      <td>(uk, desperate)</td>\n",
              "      <td>2.929919e+06</td>\n",
              "    </tr>\n",
              "    <tr>\n",
              "      <th>25</th>\n",
              "      <td>(stay, \\n\\n)</td>\n",
              "      <td>2.929919e+06</td>\n",
              "    </tr>\n",
              "  </tbody>\n",
              "</table>\n",
              "</div>"
            ],
            "text/plain": [
              "                bigram  likelihood ratio\n",
              "0         (\\n\\n, host)      2.929919e+06\n",
              "15     (lovely, enjoy)      2.929919e+06\n",
              "27  (want, experience)      2.929919e+06\n",
              "26     (uk, desperate)      2.929919e+06\n",
              "25        (stay, \\n\\n)      2.929919e+06"
            ]
          },
          "metadata": {
            "tags": []
          },
          "execution_count": 285
        }
      ]
    },
    {
      "cell_type": "code",
      "metadata": {
        "id": "LUveddClBi9k",
        "colab_type": "code",
        "colab": {}
      },
      "source": [
        "filteredLik_bi = bigramLikTable[bigramLikTable.bigram.map(lambda x: rightTypes(x))]"
      ],
      "execution_count": null,
      "outputs": []
    },
    {
      "cell_type": "code",
      "metadata": {
        "id": "1wHTXPPABlHu",
        "colab_type": "code",
        "colab": {
          "base_uri": "https://localhost:8080/",
          "height": 363
        },
        "outputId": "d486fdc1-6207-4325-d357-07e65d846424"
      },
      "source": [
        "filteredLik_bi.head(10)"
      ],
      "execution_count": null,
      "outputs": [
        {
          "output_type": "execute_result",
          "data": {
            "text/html": [
              "<div>\n",
              "<style scoped>\n",
              "    .dataframe tbody tr th:only-of-type {\n",
              "        vertical-align: middle;\n",
              "    }\n",
              "\n",
              "    .dataframe tbody tr th {\n",
              "        vertical-align: top;\n",
              "    }\n",
              "\n",
              "    .dataframe thead th {\n",
              "        text-align: right;\n",
              "    }\n",
              "</style>\n",
              "<table border=\"1\" class=\"dataframe\">\n",
              "  <thead>\n",
              "    <tr style=\"text-align: right;\">\n",
              "      <th></th>\n",
              "      <th>bigram</th>\n",
              "      <th>likelihood ratio</th>\n",
              "    </tr>\n",
              "  </thead>\n",
              "  <tbody>\n",
              "    <tr>\n",
              "      <th>27</th>\n",
              "      <td>(want, experience)</td>\n",
              "      <td>2.929919e+06</td>\n",
              "    </tr>\n",
              "    <tr>\n",
              "      <th>26</th>\n",
              "      <td>(uk, desperate)</td>\n",
              "      <td>2.929919e+06</td>\n",
              "    </tr>\n",
              "    <tr>\n",
              "      <th>24</th>\n",
              "      <td>(room, game)</td>\n",
              "      <td>2.929919e+06</td>\n",
              "    </tr>\n",
              "    <tr>\n",
              "      <th>23</th>\n",
              "      <td>(rock, pool)</td>\n",
              "      <td>2.929919e+06</td>\n",
              "    </tr>\n",
              "    <tr>\n",
              "      <th>22</th>\n",
              "      <td>(restaurant, nearby)</td>\n",
              "      <td>2.929919e+06</td>\n",
              "    </tr>\n",
              "    <tr>\n",
              "      <th>21</th>\n",
              "      <td>(reasonable, uk)</td>\n",
              "      <td>2.929919e+06</td>\n",
              "    </tr>\n",
              "    <tr>\n",
              "      <th>19</th>\n",
              "      <td>(pool, beach)</td>\n",
              "      <td>2.929919e+06</td>\n",
              "    </tr>\n",
              "    <tr>\n",
              "      <th>17</th>\n",
              "      <td>(nice, restaurant)</td>\n",
              "      <td>2.929919e+06</td>\n",
              "    </tr>\n",
              "    <tr>\n",
              "      <th>20</th>\n",
              "      <td>(price, reasonable)</td>\n",
              "      <td>2.929919e+06</td>\n",
              "    </tr>\n",
              "    <tr>\n",
              "      <th>13</th>\n",
              "      <td>(house, amenity)</td>\n",
              "      <td>2.929919e+06</td>\n",
              "    </tr>\n",
              "  </tbody>\n",
              "</table>\n",
              "</div>"
            ],
            "text/plain": [
              "                  bigram  likelihood ratio\n",
              "27    (want, experience)      2.929919e+06\n",
              "26       (uk, desperate)      2.929919e+06\n",
              "24          (room, game)      2.929919e+06\n",
              "23          (rock, pool)      2.929919e+06\n",
              "22  (restaurant, nearby)      2.929919e+06\n",
              "21      (reasonable, uk)      2.929919e+06\n",
              "19         (pool, beach)      2.929919e+06\n",
              "17    (nice, restaurant)      2.929919e+06\n",
              "20   (price, reasonable)      2.929919e+06\n",
              "13      (house, amenity)      2.929919e+06"
            ]
          },
          "metadata": {
            "tags": []
          },
          "execution_count": 287
        }
      ]
    },
    {
      "cell_type": "code",
      "metadata": {
        "id": "fNyeyYNmBmst",
        "colab_type": "code",
        "colab": {}
      },
      "source": [
        "trigramLikTable = pd.DataFrame(list(trigramFinder.score_ngrams(trigrams.likelihood_ratio)), columns=['trigram','likelihood ratio']).sort_values(by='likelihood ratio', ascending=False)"
      ],
      "execution_count": null,
      "outputs": []
    },
    {
      "cell_type": "code",
      "metadata": {
        "id": "8nlhzhcMBpdA",
        "colab_type": "code",
        "colab": {
          "base_uri": "https://localhost:8080/",
          "height": 206
        },
        "outputId": "5f89dbfc-98f2-4e08-a75a-3344ffedd98b"
      },
      "source": [
        "trigramLikTable.head()"
      ],
      "execution_count": null,
      "outputs": [
        {
          "output_type": "execute_result",
          "data": {
            "text/html": [
              "<div>\n",
              "<style scoped>\n",
              "    .dataframe tbody tr th:only-of-type {\n",
              "        vertical-align: middle;\n",
              "    }\n",
              "\n",
              "    .dataframe tbody tr th {\n",
              "        vertical-align: top;\n",
              "    }\n",
              "\n",
              "    .dataframe thead th {\n",
              "        text-align: right;\n",
              "    }\n",
              "</style>\n",
              "<table border=\"1\" class=\"dataframe\">\n",
              "  <thead>\n",
              "    <tr style=\"text-align: right;\">\n",
              "      <th></th>\n",
              "      <th>trigram</th>\n",
              "      <th>likelihood ratio</th>\n",
              "    </tr>\n",
              "  </thead>\n",
              "  <tbody>\n",
              "    <tr>\n",
              "      <th>0</th>\n",
              "      <td>(amazing, rock, pool)</td>\n",
              "      <td>8.789758e+06</td>\n",
              "    </tr>\n",
              "    <tr>\n",
              "      <th>12</th>\n",
              "      <td>(nearby, amazing, rock)</td>\n",
              "      <td>8.789758e+06</td>\n",
              "    </tr>\n",
              "    <tr>\n",
              "      <th>22</th>\n",
              "      <td>(want, experience, bay)</td>\n",
              "      <td>8.789758e+06</td>\n",
              "    </tr>\n",
              "    <tr>\n",
              "      <th>21</th>\n",
              "      <td>(uk, desperate, return)</td>\n",
              "      <td>8.789758e+06</td>\n",
              "    </tr>\n",
              "    <tr>\n",
              "      <th>1</th>\n",
              "      <td>(amenity, layout, lovely)</td>\n",
              "      <td>8.789758e+06</td>\n",
              "    </tr>\n",
              "  </tbody>\n",
              "</table>\n",
              "</div>"
            ],
            "text/plain": [
              "                      trigram  likelihood ratio\n",
              "0       (amazing, rock, pool)      8.789758e+06\n",
              "12    (nearby, amazing, rock)      8.789758e+06\n",
              "22    (want, experience, bay)      8.789758e+06\n",
              "21    (uk, desperate, return)      8.789758e+06\n",
              "1   (amenity, layout, lovely)      8.789758e+06"
            ]
          },
          "metadata": {
            "tags": []
          },
          "execution_count": 289
        }
      ]
    },
    {
      "cell_type": "code",
      "metadata": {
        "id": "JVFHEyArBrB7",
        "colab_type": "code",
        "colab": {}
      },
      "source": [
        "filteredLik_tri = trigramLikTable[trigramLikTable.trigram.map(lambda x: rightTypesTri(x))]"
      ],
      "execution_count": null,
      "outputs": []
    },
    {
      "cell_type": "code",
      "metadata": {
        "id": "R84DM7kgBuCK",
        "colab_type": "code",
        "colab": {
          "base_uri": "https://localhost:8080/",
          "height": 363
        },
        "outputId": "b7b9781e-96f8-4cd8-898f-c4d40ec2a21a"
      },
      "source": [
        "filteredLik_tri.head(10)"
      ],
      "execution_count": null,
      "outputs": [
        {
          "output_type": "execute_result",
          "data": {
            "text/html": [
              "<div>\n",
              "<style scoped>\n",
              "    .dataframe tbody tr th:only-of-type {\n",
              "        vertical-align: middle;\n",
              "    }\n",
              "\n",
              "    .dataframe tbody tr th {\n",
              "        vertical-align: top;\n",
              "    }\n",
              "\n",
              "    .dataframe thead th {\n",
              "        text-align: right;\n",
              "    }\n",
              "</style>\n",
              "<table border=\"1\" class=\"dataframe\">\n",
              "  <thead>\n",
              "    <tr style=\"text-align: right;\">\n",
              "      <th></th>\n",
              "      <th>trigram</th>\n",
              "      <th>likelihood ratio</th>\n",
              "    </tr>\n",
              "  </thead>\n",
              "  <tbody>\n",
              "    <tr>\n",
              "      <th>22</th>\n",
              "      <td>(want, experience, bay)</td>\n",
              "      <td>8.789758e+06</td>\n",
              "    </tr>\n",
              "    <tr>\n",
              "      <th>21</th>\n",
              "      <td>(uk, desperate, return)</td>\n",
              "      <td>8.789758e+06</td>\n",
              "    </tr>\n",
              "    <tr>\n",
              "      <th>19</th>\n",
              "      <td>(room, game, dvd)</td>\n",
              "      <td>8.789758e+06</td>\n",
              "    </tr>\n",
              "    <tr>\n",
              "      <th>18</th>\n",
              "      <td>(rock, pool, beach)</td>\n",
              "      <td>8.789758e+06</td>\n",
              "    </tr>\n",
              "    <tr>\n",
              "      <th>17</th>\n",
              "      <td>(restaurant, nearby, amazing)</td>\n",
              "      <td>8.789758e+06</td>\n",
              "    </tr>\n",
              "    <tr>\n",
              "      <th>16</th>\n",
              "      <td>(reasonable, uk, desperate)</td>\n",
              "      <td>8.789758e+06</td>\n",
              "    </tr>\n",
              "    <tr>\n",
              "      <th>15</th>\n",
              "      <td>(price, reasonable, uk)</td>\n",
              "      <td>8.789758e+06</td>\n",
              "    </tr>\n",
              "    <tr>\n",
              "      <th>14</th>\n",
              "      <td>(pool, beach, hill)</td>\n",
              "      <td>8.789758e+06</td>\n",
              "    </tr>\n",
              "    <tr>\n",
              "      <th>13</th>\n",
              "      <td>(nice, restaurant, nearby)</td>\n",
              "      <td>8.789758e+06</td>\n",
              "    </tr>\n",
              "    <tr>\n",
              "      <th>5</th>\n",
              "      <td>(experience, bay, fire)</td>\n",
              "      <td>8.789758e+06</td>\n",
              "    </tr>\n",
              "  </tbody>\n",
              "</table>\n",
              "</div>"
            ],
            "text/plain": [
              "                          trigram  likelihood ratio\n",
              "22        (want, experience, bay)      8.789758e+06\n",
              "21        (uk, desperate, return)      8.789758e+06\n",
              "19              (room, game, dvd)      8.789758e+06\n",
              "18            (rock, pool, beach)      8.789758e+06\n",
              "17  (restaurant, nearby, amazing)      8.789758e+06\n",
              "16    (reasonable, uk, desperate)      8.789758e+06\n",
              "15        (price, reasonable, uk)      8.789758e+06\n",
              "14            (pool, beach, hill)      8.789758e+06\n",
              "13     (nice, restaurant, nearby)      8.789758e+06\n",
              "5         (experience, bay, fire)      8.789758e+06"
            ]
          },
          "metadata": {
            "tags": []
          },
          "execution_count": 291
        }
      ]
    },
    {
      "cell_type": "code",
      "metadata": {
        "id": "3MOpkF_DBxDG",
        "colab_type": "code",
        "colab": {}
      },
      "source": [
        "lik_bi = filteredLik_bi[:20].bigram.values\n",
        "\n",
        "lik_tri = filteredLik_tri[:20].trigram.values"
      ],
      "execution_count": null,
      "outputs": []
    },
    {
      "cell_type": "markdown",
      "metadata": {
        "id": "TmPJgvwTqd81",
        "colab_type": "text"
      },
      "source": [
        "Comparison"
      ]
    },
    {
      "cell_type": "code",
      "metadata": {
        "id": "q6gVMcIwByyJ",
        "colab_type": "code",
        "colab": {}
      },
      "source": [
        "bigramsCompare = pd.DataFrame([freq_bi, pmi_bi, t_bi, chi_bi, lik_bi]).T"
      ],
      "execution_count": null,
      "outputs": []
    },
    {
      "cell_type": "code",
      "metadata": {
        "id": "bRC21mzoB1-_",
        "colab_type": "code",
        "colab": {}
      },
      "source": [
        "bigramsCompare.columns = ['Frequency', 'PMI', 'T-test', 'Chi-Sq', 'Likelihood Ratio Test']"
      ],
      "execution_count": null,
      "outputs": []
    },
    {
      "cell_type": "code",
      "metadata": {
        "id": "bLD7Ee6zB2iR",
        "colab_type": "code",
        "colab": {
          "base_uri": "https://localhost:8080/",
          "height": 677
        },
        "outputId": "d3763544-de39-4ef7-f70a-281f236c9db1"
      },
      "source": [
        "bigramsCompare"
      ],
      "execution_count": null,
      "outputs": [
        {
          "output_type": "execute_result",
          "data": {
            "text/html": [
              "<div>\n",
              "<style scoped>\n",
              "    .dataframe tbody tr th:only-of-type {\n",
              "        vertical-align: middle;\n",
              "    }\n",
              "\n",
              "    .dataframe tbody tr th {\n",
              "        vertical-align: top;\n",
              "    }\n",
              "\n",
              "    .dataframe thead th {\n",
              "        text-align: right;\n",
              "    }\n",
              "</style>\n",
              "<table border=\"1\" class=\"dataframe\">\n",
              "  <thead>\n",
              "    <tr style=\"text-align: right;\">\n",
              "      <th></th>\n",
              "      <th>Frequency</th>\n",
              "      <th>PMI</th>\n",
              "      <th>T-test</th>\n",
              "      <th>Chi-Sq</th>\n",
              "      <th>Likelihood Ratio Test</th>\n",
              "    </tr>\n",
              "  </thead>\n",
              "  <tbody>\n",
              "    <tr>\n",
              "      <th>0</th>\n",
              "      <td>(gorgeous, view)</td>\n",
              "      <td>(want, experience)</td>\n",
              "      <td>(want, experience)</td>\n",
              "      <td>(want, experience)</td>\n",
              "      <td>(want, experience)</td>\n",
              "    </tr>\n",
              "    <tr>\n",
              "      <th>1</th>\n",
              "      <td>(rock, pool)</td>\n",
              "      <td>(uk, desperate)</td>\n",
              "      <td>(uk, desperate)</td>\n",
              "      <td>(uk, desperate)</td>\n",
              "      <td>(uk, desperate)</td>\n",
              "    </tr>\n",
              "    <tr>\n",
              "      <th>2</th>\n",
              "      <td>(pool, beach)</td>\n",
              "      <td>(room, game)</td>\n",
              "      <td>(room, game)</td>\n",
              "      <td>(room, game)</td>\n",
              "      <td>(room, game)</td>\n",
              "    </tr>\n",
              "    <tr>\n",
              "      <th>3</th>\n",
              "      <td>(beach, hill)</td>\n",
              "      <td>(rock, pool)</td>\n",
              "      <td>(rock, pool)</td>\n",
              "      <td>(rock, pool)</td>\n",
              "      <td>(rock, pool)</td>\n",
              "    </tr>\n",
              "    <tr>\n",
              "      <th>4</th>\n",
              "      <td>(want, experience)</td>\n",
              "      <td>(restaurant, nearby)</td>\n",
              "      <td>(restaurant, nearby)</td>\n",
              "      <td>(restaurant, nearby)</td>\n",
              "      <td>(restaurant, nearby)</td>\n",
              "    </tr>\n",
              "    <tr>\n",
              "      <th>5</th>\n",
              "      <td>(experience, bay)</td>\n",
              "      <td>(reasonable, uk)</td>\n",
              "      <td>(reasonable, uk)</td>\n",
              "      <td>(reasonable, uk)</td>\n",
              "      <td>(reasonable, uk)</td>\n",
              "    </tr>\n",
              "    <tr>\n",
              "      <th>6</th>\n",
              "      <td>(bay, fire)</td>\n",
              "      <td>(pool, beach)</td>\n",
              "      <td>(pool, beach)</td>\n",
              "      <td>(pool, beach)</td>\n",
              "      <td>(pool, beach)</td>\n",
              "    </tr>\n",
              "    <tr>\n",
              "      <th>7</th>\n",
              "      <td>(fire, stay)</td>\n",
              "      <td>(nice, restaurant)</td>\n",
              "      <td>(nice, restaurant)</td>\n",
              "      <td>(nice, restaurant)</td>\n",
              "      <td>(nice, restaurant)</td>\n",
              "    </tr>\n",
              "    <tr>\n",
              "      <th>8</th>\n",
              "      <td>(fantastic, price)</td>\n",
              "      <td>(price, reasonable)</td>\n",
              "      <td>(price, reasonable)</td>\n",
              "      <td>(price, reasonable)</td>\n",
              "      <td>(price, reasonable)</td>\n",
              "    </tr>\n",
              "    <tr>\n",
              "      <th>9</th>\n",
              "      <td>(price, reasonable)</td>\n",
              "      <td>(house, amenity)</td>\n",
              "      <td>(house, amenity)</td>\n",
              "      <td>(house, amenity)</td>\n",
              "      <td>(house, amenity)</td>\n",
              "    </tr>\n",
              "    <tr>\n",
              "      <th>10</th>\n",
              "      <td>(reasonable, uk)</td>\n",
              "      <td>(bay, fire)</td>\n",
              "      <td>(bay, fire)</td>\n",
              "      <td>(bay, fire)</td>\n",
              "      <td>(bay, fire)</td>\n",
              "    </tr>\n",
              "    <tr>\n",
              "      <th>11</th>\n",
              "      <td>(uk, desperate)</td>\n",
              "      <td>(beach, hill)</td>\n",
              "      <td>(beach, hill)</td>\n",
              "      <td>(beach, hill)</td>\n",
              "      <td>(beach, hill)</td>\n",
              "    </tr>\n",
              "    <tr>\n",
              "      <th>12</th>\n",
              "      <td>(desperate, return)</td>\n",
              "      <td>(desperate, return)</td>\n",
              "      <td>(desperate, return)</td>\n",
              "      <td>(desperate, return)</td>\n",
              "      <td>(desperate, return)</td>\n",
              "    </tr>\n",
              "    <tr>\n",
              "      <th>13</th>\n",
              "      <td>(restaurant, nearby)</td>\n",
              "      <td>(dvd, sea)</td>\n",
              "      <td>(dvd, sea)</td>\n",
              "      <td>(dvd, sea)</td>\n",
              "      <td>(dvd, sea)</td>\n",
              "    </tr>\n",
              "    <tr>\n",
              "      <th>14</th>\n",
              "      <td>(nice, restaurant)</td>\n",
              "      <td>(amenity, layout)</td>\n",
              "      <td>(amenity, layout)</td>\n",
              "      <td>(amenity, layout)</td>\n",
              "      <td>(amenity, layout)</td>\n",
              "    </tr>\n",
              "    <tr>\n",
              "      <th>15</th>\n",
              "      <td>(hot, plate)</td>\n",
              "      <td>(experience, bay)</td>\n",
              "      <td>(experience, bay)</td>\n",
              "      <td>(experience, bay)</td>\n",
              "      <td>(experience, bay)</td>\n",
              "    </tr>\n",
              "    <tr>\n",
              "      <th>16</th>\n",
              "      <td>(fantastic, house)</td>\n",
              "      <td>(game, dvd)</td>\n",
              "      <td>(game, dvd)</td>\n",
              "      <td>(game, dvd)</td>\n",
              "      <td>(game, dvd)</td>\n",
              "    </tr>\n",
              "    <tr>\n",
              "      <th>17</th>\n",
              "      <td>(house, amenity)</td>\n",
              "      <td>(hot, plate)</td>\n",
              "      <td>(hot, plate)</td>\n",
              "      <td>(hot, plate)</td>\n",
              "      <td>(hot, plate)</td>\n",
              "    </tr>\n",
              "    <tr>\n",
              "      <th>18</th>\n",
              "      <td>(amenity, layout)</td>\n",
              "      <td>(fire, stay)</td>\n",
              "      <td>(fire, stay)</td>\n",
              "      <td>(fire, stay)</td>\n",
              "      <td>(fire, stay)</td>\n",
              "    </tr>\n",
              "    <tr>\n",
              "      <th>19</th>\n",
              "      <td>(plate, sun)</td>\n",
              "      <td>(return, place)</td>\n",
              "      <td>(return, place)</td>\n",
              "      <td>(return, place)</td>\n",
              "      <td>(return, place)</td>\n",
              "    </tr>\n",
              "  </tbody>\n",
              "</table>\n",
              "</div>"
            ],
            "text/plain": [
              "               Frequency  ... Likelihood Ratio Test\n",
              "0       (gorgeous, view)  ...    (want, experience)\n",
              "1           (rock, pool)  ...       (uk, desperate)\n",
              "2          (pool, beach)  ...          (room, game)\n",
              "3          (beach, hill)  ...          (rock, pool)\n",
              "4     (want, experience)  ...  (restaurant, nearby)\n",
              "5      (experience, bay)  ...      (reasonable, uk)\n",
              "6            (bay, fire)  ...         (pool, beach)\n",
              "7           (fire, stay)  ...    (nice, restaurant)\n",
              "8     (fantastic, price)  ...   (price, reasonable)\n",
              "9    (price, reasonable)  ...      (house, amenity)\n",
              "10      (reasonable, uk)  ...           (bay, fire)\n",
              "11       (uk, desperate)  ...         (beach, hill)\n",
              "12   (desperate, return)  ...   (desperate, return)\n",
              "13  (restaurant, nearby)  ...            (dvd, sea)\n",
              "14    (nice, restaurant)  ...     (amenity, layout)\n",
              "15          (hot, plate)  ...     (experience, bay)\n",
              "16    (fantastic, house)  ...           (game, dvd)\n",
              "17      (house, amenity)  ...          (hot, plate)\n",
              "18     (amenity, layout)  ...          (fire, stay)\n",
              "19          (plate, sun)  ...       (return, place)\n",
              "\n",
              "[20 rows x 5 columns]"
            ]
          },
          "metadata": {
            "tags": []
          },
          "execution_count": 305
        }
      ]
    },
    {
      "cell_type": "code",
      "metadata": {
        "id": "adxmTM5PB6KD",
        "colab_type": "code",
        "colab": {}
      },
      "source": [
        "trigramsCompare = pd.DataFrame([freq_tri, pmi_tri, t_tri, chi_tri, lik_tri]).T"
      ],
      "execution_count": null,
      "outputs": []
    },
    {
      "cell_type": "code",
      "metadata": {
        "id": "7O9VfsdzB69g",
        "colab_type": "code",
        "colab": {}
      },
      "source": [
        "trigramsCompare.columns = ['Frequency', 'PMI', 'T-test', 'Chi-Sq', 'Likelihood Ratio Test']"
      ],
      "execution_count": null,
      "outputs": []
    },
    {
      "cell_type": "code",
      "metadata": {
        "id": "PsrTdDZzB8ox",
        "colab_type": "code",
        "colab": {
          "base_uri": "https://localhost:8080/",
          "height": 677
        },
        "outputId": "a8a9d017-20b6-4cc9-f98e-9fe9ba587046"
      },
      "source": [
        "trigramsCompare"
      ],
      "execution_count": null,
      "outputs": [
        {
          "output_type": "execute_result",
          "data": {
            "text/html": [
              "<div>\n",
              "<style scoped>\n",
              "    .dataframe tbody tr th:only-of-type {\n",
              "        vertical-align: middle;\n",
              "    }\n",
              "\n",
              "    .dataframe tbody tr th {\n",
              "        vertical-align: top;\n",
              "    }\n",
              "\n",
              "    .dataframe thead th {\n",
              "        text-align: right;\n",
              "    }\n",
              "</style>\n",
              "<table border=\"1\" class=\"dataframe\">\n",
              "  <thead>\n",
              "    <tr style=\"text-align: right;\">\n",
              "      <th></th>\n",
              "      <th>Frequency</th>\n",
              "      <th>PMI</th>\n",
              "      <th>T-test</th>\n",
              "      <th>Chi-Sq</th>\n",
              "      <th>Likelihood Ratio Test</th>\n",
              "    </tr>\n",
              "  </thead>\n",
              "  <tbody>\n",
              "    <tr>\n",
              "      <th>0</th>\n",
              "      <td>(place, gorgeous, view)</td>\n",
              "      <td>(want, experience, bay)</td>\n",
              "      <td>(want, experience, bay)</td>\n",
              "      <td>(want, experience, bay)</td>\n",
              "      <td>(want, experience, bay)</td>\n",
              "    </tr>\n",
              "    <tr>\n",
              "      <th>1</th>\n",
              "      <td>(bay, fire, stay)</td>\n",
              "      <td>(uk, desperate, return)</td>\n",
              "      <td>(uk, desperate, return)</td>\n",
              "      <td>(uk, desperate, return)</td>\n",
              "      <td>(uk, desperate, return)</td>\n",
              "    </tr>\n",
              "    <tr>\n",
              "      <th>2</th>\n",
              "      <td>(rock, pool, beach)</td>\n",
              "      <td>(room, game, dvd)</td>\n",
              "      <td>(room, game, dvd)</td>\n",
              "      <td>(room, game, dvd)</td>\n",
              "      <td>(room, game, dvd)</td>\n",
              "    </tr>\n",
              "    <tr>\n",
              "      <th>3</th>\n",
              "      <td>(pool, beach, hill)</td>\n",
              "      <td>(rock, pool, beach)</td>\n",
              "      <td>(rock, pool, beach)</td>\n",
              "      <td>(rock, pool, beach)</td>\n",
              "      <td>(rock, pool, beach)</td>\n",
              "    </tr>\n",
              "    <tr>\n",
              "      <th>4</th>\n",
              "      <td>(hill, want, experience)</td>\n",
              "      <td>(restaurant, nearby, amazing)</td>\n",
              "      <td>(restaurant, nearby, amazing)</td>\n",
              "      <td>(restaurant, nearby, amazing)</td>\n",
              "      <td>(restaurant, nearby, amazing)</td>\n",
              "    </tr>\n",
              "    <tr>\n",
              "      <th>5</th>\n",
              "      <td>(want, experience, bay)</td>\n",
              "      <td>(reasonable, uk, desperate)</td>\n",
              "      <td>(reasonable, uk, desperate)</td>\n",
              "      <td>(reasonable, uk, desperate)</td>\n",
              "      <td>(reasonable, uk, desperate)</td>\n",
              "    </tr>\n",
              "    <tr>\n",
              "      <th>6</th>\n",
              "      <td>(experience, bay, fire)</td>\n",
              "      <td>(price, reasonable, uk)</td>\n",
              "      <td>(price, reasonable, uk)</td>\n",
              "      <td>(price, reasonable, uk)</td>\n",
              "      <td>(price, reasonable, uk)</td>\n",
              "    </tr>\n",
              "    <tr>\n",
              "      <th>7</th>\n",
              "      <td>(gorgeous, view, fantastic)</td>\n",
              "      <td>(pool, beach, hill)</td>\n",
              "      <td>(pool, beach, hill)</td>\n",
              "      <td>(pool, beach, hill)</td>\n",
              "      <td>(pool, beach, hill)</td>\n",
              "    </tr>\n",
              "    <tr>\n",
              "      <th>8</th>\n",
              "      <td>(host, fantastic, price)</td>\n",
              "      <td>(nice, restaurant, nearby)</td>\n",
              "      <td>(nice, restaurant, nearby)</td>\n",
              "      <td>(nice, restaurant, nearby)</td>\n",
              "      <td>(nice, restaurant, nearby)</td>\n",
              "    </tr>\n",
              "    <tr>\n",
              "      <th>9</th>\n",
              "      <td>(fantastic, price, reasonable)</td>\n",
              "      <td>(experience, bay, fire)</td>\n",
              "      <td>(experience, bay, fire)</td>\n",
              "      <td>(experience, bay, fire)</td>\n",
              "      <td>(experience, bay, fire)</td>\n",
              "    </tr>\n",
              "    <tr>\n",
              "      <th>10</th>\n",
              "      <td>(price, reasonable, uk)</td>\n",
              "      <td>(enjoy, hot, plate)</td>\n",
              "      <td>(enjoy, hot, plate)</td>\n",
              "      <td>(enjoy, hot, plate)</td>\n",
              "      <td>(enjoy, hot, plate)</td>\n",
              "    </tr>\n",
              "    <tr>\n",
              "      <th>11</th>\n",
              "      <td>(reasonable, uk, desperate)</td>\n",
              "      <td>(bay, fire, stay)</td>\n",
              "      <td>(bay, fire, stay)</td>\n",
              "      <td>(bay, fire, stay)</td>\n",
              "      <td>(bay, fire, stay)</td>\n",
              "    </tr>\n",
              "    <tr>\n",
              "      <th>12</th>\n",
              "      <td>(uk, desperate, return)</td>\n",
              "      <td>(game, dvd, sea)</td>\n",
              "      <td>(game, dvd, sea)</td>\n",
              "      <td>(game, dvd, sea)</td>\n",
              "      <td>(game, dvd, sea)</td>\n",
              "    </tr>\n",
              "    <tr>\n",
              "      <th>13</th>\n",
              "      <td>(restaurant, nearby, amazing)</td>\n",
              "      <td>(hill, want, experience)</td>\n",
              "      <td>(hill, want, experience)</td>\n",
              "      <td>(hill, want, experience)</td>\n",
              "      <td>(hill, want, experience)</td>\n",
              "    </tr>\n",
              "    <tr>\n",
              "      <th>14</th>\n",
              "      <td>(nice, restaurant, nearby)</td>\n",
              "      <td>(house, amenity, layout)</td>\n",
              "      <td>(house, amenity, layout)</td>\n",
              "      <td>(house, amenity, layout)</td>\n",
              "      <td>(house, amenity, layout)</td>\n",
              "    </tr>\n",
              "    <tr>\n",
              "      <th>15</th>\n",
              "      <td>(view, nice, restaurant)</td>\n",
              "      <td>(desperate, return, place)</td>\n",
              "      <td>(desperate, return, place)</td>\n",
              "      <td>(desperate, return, place)</td>\n",
              "      <td>(desperate, return, place)</td>\n",
              "    </tr>\n",
              "    <tr>\n",
              "      <th>16</th>\n",
              "      <td>(view, fantastic, house)</td>\n",
              "      <td>(return, place, gorgeous)</td>\n",
              "      <td>(return, place, gorgeous)</td>\n",
              "      <td>(return, place, gorgeous)</td>\n",
              "      <td>(return, place, gorgeous)</td>\n",
              "    </tr>\n",
              "    <tr>\n",
              "      <th>17</th>\n",
              "      <td>(fantastic, house, amenity)</td>\n",
              "      <td>(lounger, sun, room)</td>\n",
              "      <td>(lounger, sun, room)</td>\n",
              "      <td>(lounger, sun, room)</td>\n",
              "      <td>(lounger, sun, room)</td>\n",
              "    </tr>\n",
              "    <tr>\n",
              "      <th>18</th>\n",
              "      <td>(house, amenity, layout)</td>\n",
              "      <td>(view, nice, restaurant)</td>\n",
              "      <td>(view, nice, restaurant)</td>\n",
              "      <td>(view, nice, restaurant)</td>\n",
              "      <td>(view, nice, restaurant)</td>\n",
              "    </tr>\n",
              "    <tr>\n",
              "      <th>19</th>\n",
              "      <td>(enjoy, hot, plate)</td>\n",
              "      <td>(sun, room, game)</td>\n",
              "      <td>(sun, room, game)</td>\n",
              "      <td>(sun, room, game)</td>\n",
              "      <td>(sun, room, game)</td>\n",
              "    </tr>\n",
              "  </tbody>\n",
              "</table>\n",
              "</div>"
            ],
            "text/plain": [
              "                         Frequency  ...          Likelihood Ratio Test\n",
              "0          (place, gorgeous, view)  ...        (want, experience, bay)\n",
              "1                (bay, fire, stay)  ...        (uk, desperate, return)\n",
              "2              (rock, pool, beach)  ...              (room, game, dvd)\n",
              "3              (pool, beach, hill)  ...            (rock, pool, beach)\n",
              "4         (hill, want, experience)  ...  (restaurant, nearby, amazing)\n",
              "5          (want, experience, bay)  ...    (reasonable, uk, desperate)\n",
              "6          (experience, bay, fire)  ...        (price, reasonable, uk)\n",
              "7      (gorgeous, view, fantastic)  ...            (pool, beach, hill)\n",
              "8         (host, fantastic, price)  ...     (nice, restaurant, nearby)\n",
              "9   (fantastic, price, reasonable)  ...        (experience, bay, fire)\n",
              "10         (price, reasonable, uk)  ...            (enjoy, hot, plate)\n",
              "11     (reasonable, uk, desperate)  ...              (bay, fire, stay)\n",
              "12         (uk, desperate, return)  ...               (game, dvd, sea)\n",
              "13   (restaurant, nearby, amazing)  ...       (hill, want, experience)\n",
              "14      (nice, restaurant, nearby)  ...       (house, amenity, layout)\n",
              "15        (view, nice, restaurant)  ...     (desperate, return, place)\n",
              "16        (view, fantastic, house)  ...      (return, place, gorgeous)\n",
              "17     (fantastic, house, amenity)  ...           (lounger, sun, room)\n",
              "18        (house, amenity, layout)  ...       (view, nice, restaurant)\n",
              "19             (enjoy, hot, plate)  ...              (sun, room, game)\n",
              "\n",
              "[20 rows x 5 columns]"
            ]
          },
          "metadata": {
            "tags": []
          },
          "execution_count": 307
        }
      ]
    }
  ]
}